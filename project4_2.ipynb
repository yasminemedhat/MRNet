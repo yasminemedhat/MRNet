{
  "nbformat": 4,
  "nbformat_minor": 0,
  "metadata": {
    "colab": {
      "name": "project4.2.ipynb",
      "version": "0.3.2",
      "provenance": [],
      "collapsed_sections": [],
      "toc_visible": true
    },
    "kernelspec": {
      "name": "python3",
      "display_name": "Python 3"
    },
    "accelerator": "GPU"
  },
  "cells": [
    {
      "cell_type": "markdown",
      "metadata": {
        "id": "zfet06E1UP7-",
        "colab_type": "text"
      },
      "source": [
        "# CNN on MRNet data set"
      ]
    },
    {
      "cell_type": "markdown",
      "metadata": {
        "id": "9FJee9MpUe2_",
        "colab_type": "text"
      },
      "source": [
        "mount drive"
      ]
    },
    {
      "cell_type": "code",
      "metadata": {
        "id": "ZGsRwWJJUiOA",
        "colab_type": "code",
        "outputId": "c6ee8d06-4d8a-4019-c547-45d110a51b74",
        "colab": {
          "base_uri": "https://localhost:8080/",
          "height": 122
        }
      },
      "source": [
        "from google.colab import drive\n",
        "drive.mount('/content/gdrive')"
      ],
      "execution_count": 0,
      "outputs": [
        {
          "output_type": "stream",
          "text": [
            "Go to this URL in a browser: https://accounts.google.com/o/oauth2/auth?client_id=947318989803-6bn6qk8qdgf4n4g3pfee6491hc0brc4i.apps.googleusercontent.com&redirect_uri=urn%3Aietf%3Awg%3Aoauth%3A2.0%3Aoob&scope=email%20https%3A%2F%2Fwww.googleapis.com%2Fauth%2Fdocs.test%20https%3A%2F%2Fwww.googleapis.com%2Fauth%2Fdrive%20https%3A%2F%2Fwww.googleapis.com%2Fauth%2Fdrive.photos.readonly%20https%3A%2F%2Fwww.googleapis.com%2Fauth%2Fpeopleapi.readonly&response_type=code\n",
            "\n",
            "Enter your authorization code:\n",
            "··········\n",
            "Mounted at /content/gdrive\n"
          ],
          "name": "stdout"
        }
      ]
    },
    {
      "cell_type": "code",
      "metadata": {
        "id": "WDjXmdyJUmtM",
        "colab_type": "code",
        "colab": {}
      },
      "source": [
        "import os\n",
        "#change directory to folder holding the data\n",
        "os.chdir('/content/gdrive/My Drive/MR_dataset')"
      ],
      "execution_count": 0,
      "outputs": []
    },
    {
      "cell_type": "code",
      "metadata": {
        "id": "MSPs4QoNU5H2",
        "colab_type": "code",
        "colab": {}
      },
      "source": [
        "import numpy as np\n",
        "import matplotlib.pyplot as plt\n",
        "import pandas as pd\n",
        "from random import randint"
      ],
      "execution_count": 0,
      "outputs": []
    },
    {
      "cell_type": "code",
      "metadata": {
        "id": "KuM3YkRvU9ht",
        "colab_type": "code",
        "colab": {}
      },
      "source": [
        "main_dir = \"MRNet-v1.0\""
      ],
      "execution_count": 0,
      "outputs": []
    },
    {
      "cell_type": "markdown",
      "metadata": {
        "id": "EVDbc8ExVEfW",
        "colab_type": "text"
      },
      "source": [
        "load data of a specific scan from sub directory(train or valid) for each scan type(axial, coronal, sagittal) and return a numpy array of shape  256 x256x3  a three random slices of the MRI to feed them to the 3 channel CNN"
      ]
    },
    {
      "cell_type": "code",
      "metadata": {
        "id": "vbu_P3WiVTPD",
        "colab_type": "code",
        "colab": {}
      },
      "source": [
        "def load_scan_series(directory, sub_directory, scanType, scan_ID):\n",
        "    id = str(scan_ID)\n",
        "    #add zeros prefix\n",
        "    if len(id) < 4:\n",
        "        for n in range(4 - len(id)):\n",
        "            id = \"0\" + id\n",
        "    mri = np.load(directory + \"/\" + sub_directory + \"/\" + scanType + \"/\" + id + \".npy\")\n",
        "    rgb_img =[]\n",
        "    s = int(mri.shape[0]/2)\n",
        "    rgb_img.append(mri[s,:,:])\n",
        "    rgb_img.append(mri[s,:,:])\n",
        "    rgb_img.append(mri[s,:,:])\n",
        "    rgb_img=np.array(rgb_img)\n",
        "    rgb_img=np.moveaxis(rgb_img, -1, 0)\n",
        "    rgb_img=np.moveaxis(rgb_img, -1, 0)\n",
        "    rgb_img = np.array(rgb_img)\n",
        "    return rgb_img"
      ],
      "execution_count": 0,
      "outputs": []
    },
    {
      "cell_type": "markdown",
      "metadata": {
        "id": "-AgpP2cWW7u2",
        "colab_type": "text"
      },
      "source": [
        "create a numpy array of series of images of a certain scan type each series is  256 x 256x3 "
      ]
    },
    {
      "cell_type": "code",
      "metadata": {
        "id": "0Mp-GTrxXHB0",
        "colab_type": "code",
        "colab": {}
      },
      "source": [
        "def scan_series_Array(directory, subset, scanType, num_samples, start):\n",
        "    data = []\n",
        "    label =[]\n",
        "    start2 = 0\n",
        "    if subset == \"valid\":\n",
        "      start2 =start+ 1130\n",
        "    for n in range (num_samples):\n",
        "        mri = load_scan_series(directory, subset, scanType,n+ start2)\n",
        "        data.append(np.array(mri))\n",
        "    #data = np.vstack(data)\n",
        "    data = np.array(data)\n",
        "    return data"
      ],
      "execution_count": 0,
      "outputs": []
    },
    {
      "cell_type": "markdown",
      "metadata": {
        "id": "xxKkty6Qh-uq",
        "colab_type": "text"
      },
      "source": [
        "include the Fscore metric from sklearn by creating a custom metric class and a function to be called on each epoch end"
      ]
    },
    {
      "cell_type": "code",
      "metadata": {
        "id": "J1tLow-mh9Qw",
        "colab_type": "code",
        "outputId": "2dbbc667-caf7-4077-a03a-0804b647f72a",
        "colab": {
          "base_uri": "https://localhost:8080/",
          "height": 34
        }
      },
      "source": [
        "from keras.callbacks import Callback\n",
        "from sklearn.metrics import confusion_matrix, f1_score, precision_score, recall_score"
      ],
      "execution_count": 0,
      "outputs": [
        {
          "output_type": "stream",
          "text": [
            "Using TensorFlow backend.\n"
          ],
          "name": "stderr"
        }
      ]
    },
    {
      "cell_type": "code",
      "metadata": {
        "id": "rXgQi3SAidnL",
        "colab_type": "code",
        "colab": {}
      },
      "source": [
        "class Metrics(Callback):\n",
        "  def on_train_begin(self, logs={}):\n",
        "    self.val_f1s = []\n",
        " \n",
        "\n",
        "  def on_epoch_end(self, epoch, logs={}):\n",
        "    X_val, y_val = self.validation_data[0], self.validation_data[1]\n",
        "    y_predict = np.asarray(acl_sagittal_model.predict(X_val))\n",
        "    \n",
        "    _val_f1 = f1_score(y_val, y_predict.round())\n",
        "    \n",
        "    self.val_f1s.append(_val_f1)\n",
        "    print(\"— val_f1: \" + str(_val_f1))\n",
        "    return\n",
        "  \n",
        "  def get_data(self):\n",
        "    return self.val_f1s"
      ],
      "execution_count": 0,
      "outputs": []
    },
    {
      "cell_type": "markdown",
      "metadata": {
        "id": "1NXVfnn8kJV2",
        "colab_type": "text"
      },
      "source": [
        " create an instance of the cass metrics to pass it as an argument for the model"
      ]
    },
    {
      "cell_type": "code",
      "metadata": {
        "id": "i935ZInq2uCZ",
        "colab_type": "code",
        "colab": {}
      },
      "source": [
        "#first layer:\n",
        "import keras.models as models\n",
        "from keras.layers.core import Reshape,Dense,Dropout,Activation,Flatten\n",
        "from keras.layers import Input, Flatten, Dense\n",
        "from keras.layers.convolutional import Conv2D\n"
      ],
      "execution_count": 0,
      "outputs": []
    },
    {
      "cell_type": "code",
      "metadata": {
        "id": "LHxwE8CDZr4F",
        "colab_type": "code",
        "colab": {}
      },
      "source": [
        "from keras.applications import resnet50, vgg16"
      ],
      "execution_count": 0,
      "outputs": []
    },
    {
      "cell_type": "markdown",
      "metadata": {
        "id": "pwgSb3yrgek8",
        "colab_type": "text"
      },
      "source": [
        "using our base model as the vgg 16"
      ]
    },
    {
      "cell_type": "code",
      "metadata": {
        "id": "fZbX8RdP257m",
        "colab_type": "code",
        "outputId": "249d88c2-cfab-4caa-b813-d1d8942a8531",
        "colab": {
          "base_uri": "https://localhost:8080/",
          "height": 88
        }
      },
      "source": [
        "import numpy as np\n",
        "\n",
        "base_model = vgg16.VGG16(weights='imagenet',\n",
        "                               input_shape=(256,256,3),include_top=False) \n",
        "#imports the mobilenet model and discards the last 1000 neuron layer.\n",
        "for layer in base_model.layers:\n",
        "  layer.trainable = False"
      ],
      "execution_count": 0,
      "outputs": [
        {
          "output_type": "stream",
          "text": [
            "WARNING:tensorflow:From /usr/local/lib/python3.6/dist-packages/tensorflow/python/framework/op_def_library.py:263: colocate_with (from tensorflow.python.framework.ops) is deprecated and will be removed in a future version.\n",
            "Instructions for updating:\n",
            "Colocations handled automatically by placer.\n"
          ],
          "name": "stdout"
        }
      ]
    },
    {
      "cell_type": "code",
      "metadata": {
        "id": "5ps3rzsd3BFp",
        "colab_type": "code",
        "colab": {}
      },
      "source": [
        "from keras.layers import Dense,GlobalAveragePooling2D, Dropout\n",
        "from keras.applications import MobileNet\n",
        "from keras.preprocessing import image\n",
        "from keras.applications.mobilenet import preprocess_input\n",
        "from keras.preprocessing.image import ImageDataGenerator\n",
        "from keras.models import Model\n",
        "from keras.optimizers import Adam\n",
        "\n",
        "x=base_model.output\n",
        "x=GlobalAveragePooling2D()(x)\n",
        "#x=Dense(256,activation='relu')(x) \n",
        "#x=x=Dropout(0.3)(x)\n",
        "#x=Dense(100,activation='relu')(x) \n",
        "#x=x=Dropout(0.3)(x)\n",
        "x=Dense(100,activation='relu')(x) \n",
        "#x=x=Dropout(0.3)(x)\n",
        "preds=Dense(1,activation='sigmoid')(x) #final layer with sigmoid activation (because a sigmoid exists between zero and one)"
      ],
      "execution_count": 0,
      "outputs": []
    },
    {
      "cell_type": "markdown",
      "metadata": {
        "id": "8NKr5KK43rP9",
        "colab_type": "text"
      },
      "source": [
        "# **abnormal axial**"
      ]
    },
    {
      "cell_type": "markdown",
      "metadata": {
        "id": "X8l_XMC_gQFz",
        "colab_type": "text"
      },
      "source": [
        "Get the abnormal train labels"
      ]
    },
    {
      "cell_type": "code",
      "metadata": {
        "id": "pnTGAHGZX-Aq",
        "colab_type": "code",
        "colab": {}
      },
      "source": [
        "train_abnormal_labels = pd.read_csv(main_dir+'/' + \"train-abnormal.csv\", header=None)[1].values"
      ],
      "execution_count": 0,
      "outputs": []
    },
    {
      "cell_type": "markdown",
      "metadata": {
        "id": "EPJT6hFtlthD",
        "colab_type": "text"
      },
      "source": [
        "get the abnormal axial training data"
      ]
    },
    {
      "cell_type": "code",
      "metadata": {
        "id": "iXY26MiHlxqP",
        "colab_type": "code",
        "colab": {}
      },
      "source": [
        "train_axial= scan_series_Array(main_dir,\"train\", \"axial\", 1130, 0)"
      ],
      "execution_count": 0,
      "outputs": []
    },
    {
      "cell_type": "markdown",
      "metadata": {
        "id": "tRvA7Fy7gjk8",
        "colab_type": "text"
      },
      "source": [
        "creating the abnormal axial model"
      ]
    },
    {
      "cell_type": "code",
      "metadata": {
        "id": "iz_MqxCo3I0e",
        "colab_type": "code",
        "colab": {}
      },
      "source": [
        "abnormal_axial_model=Model(inputs=base_model.input,outputs=preds)"
      ],
      "execution_count": 0,
      "outputs": []
    },
    {
      "cell_type": "code",
      "metadata": {
        "id": "UemnhBxp35Re",
        "colab_type": "code",
        "colab": {}
      },
      "source": [
        "#compile\n",
        "abnormal_axial_model.compile(optimizer='Adam',loss='binary_crossentropy',metrics=['accuracy'])"
      ],
      "execution_count": 0,
      "outputs": []
    },
    {
      "cell_type": "markdown",
      "metadata": {
        "id": "xS9ucF9RxHJn",
        "colab_type": "text"
      },
      "source": [
        "  ModelCheckpoint(filepath='content/gdrive/My Drive/MR_dataset/bestModel.h5'\n",
        "  \n",
        "  from keras.callbacks import EarlyStopping, ModelCheckpoint\n",
        "\n",
        "callbacks = [EarlyStopping(monitor='val_loss', patience=3),#patience->unchanged epoches tolerated,\n",
        "             (monitor='val_loss'),save_best_only=True,metrics)"
      ]
    },
    {
      "cell_type": "code",
      "metadata": {
        "id": "ASLcZ-PIkP0f",
        "colab_type": "code",
        "colab": {}
      },
      "source": [
        "metrics = Metrics()"
      ],
      "execution_count": 0,
      "outputs": []
    },
    {
      "cell_type": "code",
      "metadata": {
        "id": "PzSPNc-G4Cbl",
        "colab_type": "code",
        "outputId": "283ec94e-f003-46f8-981a-209988d60d26",
        "colab": {
          "base_uri": "https://localhost:8080/",
          "height": 884
        }
      },
      "source": [
        "abnormal_axial_model.summary()"
      ],
      "execution_count": 0,
      "outputs": [
        {
          "output_type": "stream",
          "text": [
            "_________________________________________________________________\n",
            "Layer (type)                 Output Shape              Param #   \n",
            "=================================================================\n",
            "input_1 (InputLayer)         (None, 256, 256, 3)       0         \n",
            "_________________________________________________________________\n",
            "block1_conv1 (Conv2D)        (None, 256, 256, 64)      1792      \n",
            "_________________________________________________________________\n",
            "block1_conv2 (Conv2D)        (None, 256, 256, 64)      36928     \n",
            "_________________________________________________________________\n",
            "block1_pool (MaxPooling2D)   (None, 128, 128, 64)      0         \n",
            "_________________________________________________________________\n",
            "block2_conv1 (Conv2D)        (None, 128, 128, 128)     73856     \n",
            "_________________________________________________________________\n",
            "block2_conv2 (Conv2D)        (None, 128, 128, 128)     147584    \n",
            "_________________________________________________________________\n",
            "block2_pool (MaxPooling2D)   (None, 64, 64, 128)       0         \n",
            "_________________________________________________________________\n",
            "block3_conv1 (Conv2D)        (None, 64, 64, 256)       295168    \n",
            "_________________________________________________________________\n",
            "block3_conv2 (Conv2D)        (None, 64, 64, 256)       590080    \n",
            "_________________________________________________________________\n",
            "block3_conv3 (Conv2D)        (None, 64, 64, 256)       590080    \n",
            "_________________________________________________________________\n",
            "block3_pool (MaxPooling2D)   (None, 32, 32, 256)       0         \n",
            "_________________________________________________________________\n",
            "block4_conv1 (Conv2D)        (None, 32, 32, 512)       1180160   \n",
            "_________________________________________________________________\n",
            "block4_conv2 (Conv2D)        (None, 32, 32, 512)       2359808   \n",
            "_________________________________________________________________\n",
            "block4_conv3 (Conv2D)        (None, 32, 32, 512)       2359808   \n",
            "_________________________________________________________________\n",
            "block4_pool (MaxPooling2D)   (None, 16, 16, 512)       0         \n",
            "_________________________________________________________________\n",
            "block5_conv1 (Conv2D)        (None, 16, 16, 512)       2359808   \n",
            "_________________________________________________________________\n",
            "block5_conv2 (Conv2D)        (None, 16, 16, 512)       2359808   \n",
            "_________________________________________________________________\n",
            "block5_conv3 (Conv2D)        (None, 16, 16, 512)       2359808   \n",
            "_________________________________________________________________\n",
            "block5_pool (MaxPooling2D)   (None, 8, 8, 512)         0         \n",
            "_________________________________________________________________\n",
            "global_average_pooling2d_1 ( (None, 512)               0         \n",
            "_________________________________________________________________\n",
            "dense_1 (Dense)              (None, 10)                5130      \n",
            "_________________________________________________________________\n",
            "dense_2 (Dense)              (None, 1)                 11        \n",
            "=================================================================\n",
            "Total params: 14,719,829\n",
            "Trainable params: 5,141\n",
            "Non-trainable params: 14,714,688\n",
            "_________________________________________________________________\n"
          ],
          "name": "stdout"
        }
      ]
    },
    {
      "cell_type": "code",
      "metadata": {
        "id": "syIIIQGU2Z_w",
        "colab_type": "code",
        "outputId": "e58c2f1b-da58-4d5a-9f8c-18cd0ff53a55",
        "colab": {
          "base_uri": "https://localhost:8080/",
          "height": 34
        }
      },
      "source": [
        "import gc\n",
        "gc.collect()"
      ],
      "execution_count": 0,
      "outputs": [
        {
          "output_type": "execute_result",
          "data": {
            "text/plain": [
              "0"
            ]
          },
          "metadata": {
            "tags": []
          },
          "execution_count": 17
        }
      ]
    },
    {
      "cell_type": "markdown",
      "metadata": {
        "id": "51ZKKI2nk5uh",
        "colab_type": "text"
      },
      "source": [
        ""
      ]
    },
    {
      "cell_type": "code",
      "metadata": {
        "id": "cGAe3rV-4Q2n",
        "colab_type": "code",
        "colab": {}
      },
      "source": [
        "history=abnormal_axial_model.fit(train_axial, train_abnormal_labels, epochs = 20,\n",
        "                  shuffle=True, verbose = 1, validation_split=0.02,callbacks=[metrics])"
      ],
      "execution_count": 0,
      "outputs": []
    },
    {
      "cell_type": "markdown",
      "metadata": {
        "id": "0LqYYJfx6GN9",
        "colab_type": "text"
      },
      "source": [
        "save the model"
      ]
    },
    {
      "cell_type": "code",
      "metadata": {
        "id": "saswU1XR6hsg",
        "colab_type": "code",
        "colab": {}
      },
      "source": [
        "abnormal_axial_model.save_weights('abnormal_axial_weights.h5') #load best weights"
      ],
      "execution_count": 0,
      "outputs": []
    },
    {
      "cell_type": "markdown",
      "metadata": {
        "id": "rQ6sg2su6JMw",
        "colab_type": "text"
      },
      "source": [
        "get accuracy and f score"
      ]
    },
    {
      "cell_type": "code",
      "metadata": {
        "id": "rJxOGnK_6RNH",
        "colab_type": "code",
        "colab": {}
      },
      "source": [
        "axial_abnormal_train_acc = history.history['acc']\n",
        "axial_abnormal_train_loss = history.history['loss']\n",
        "axial_abnormal_train_fscore = metrics.get_data()"
      ],
      "execution_count": 0,
      "outputs": []
    },
    {
      "cell_type": "markdown",
      "metadata": {
        "id": "MPnBotvD7Pt9",
        "colab_type": "text"
      },
      "source": [
        "plot metrics"
      ]
    },
    {
      "cell_type": "markdown",
      "metadata": {
        "id": "lQUBfgZWBtiX",
        "colab_type": "text"
      },
      "source": [
        "Accuracy"
      ]
    },
    {
      "cell_type": "code",
      "metadata": {
        "colab_type": "code",
        "outputId": "a420e75e-58d4-4410-b87e-ba8a77ab07fa",
        "id": "R8vWPfUc1Tv5",
        "colab": {
          "base_uri": "https://localhost:8080/",
          "height": 281
        }
      },
      "source": [
        "plt.plot(axial_abnormal_train_acc)\n",
        "plt.title('training curve')\n",
        "plt.show()"
      ],
      "execution_count": 0,
      "outputs": [
        {
          "output_type": "display_data",
          "data": {
            "image/png": "[encoded data removed]",
            "text/plain": [
              "<Figure size 432x288 with 1 Axes>"
            ]
          },
          "metadata": {
            "tags": []
          }
        }
      ]
    },
    {
      "cell_type": "markdown",
      "metadata": {
        "id": "E-9V6wjPBzNF",
        "colab_type": "text"
      },
      "source": [
        "loss"
      ]
    },
    {
      "cell_type": "code",
      "metadata": {
        "colab_type": "code",
        "outputId": "4fe30759-0b3c-44b2-f4d2-00ccefc7e496",
        "id": "pvfHaUeS1ZbV",
        "colab": {
          "base_uri": "https://localhost:8080/",
          "height": 298
        }
      },
      "source": [
        "plt.plot(axial_abnormal_train_loss)\n",
        "plt.title('training curve')"
      ],
      "execution_count": 0,
      "outputs": [
        {
          "output_type": "execute_result",
          "data": {
            "text/plain": [
              "Text(0.5, 1.0, 'training curve')"
            ]
          },
          "metadata": {
            "tags": []
          },
          "execution_count": 26
        },
        {
          "output_type": "display_data",
          "data": {
            "image/png": "[encoded data removed]",
            "text/plain": [
              "<Figure size 432x288 with 1 Axes>"
            ]
          },
          "metadata": {
            "tags": []
          }
        }
      ]
    },
    {
      "cell_type": "markdown",
      "metadata": {
        "id": "Cx4kbxQFCCwU",
        "colab_type": "text"
      },
      "source": [
        "fscore\n"
      ]
    },
    {
      "cell_type": "code",
      "metadata": {
        "colab_type": "code",
        "outputId": "6d5c6c70-65f9-4a66-d829-788e0e071c7b",
        "id": "JmxKP-Qc20ZS",
        "colab": {
          "base_uri": "https://localhost:8080/",
          "height": 286
        }
      },
      "source": [
        "plt.plot(axial_abnormal_train_fscore)"
      ],
      "execution_count": 0,
      "outputs": [
        {
          "output_type": "execute_result",
          "data": {
            "text/plain": [
              "[<matplotlib.lines.Line2D at 0x7fd60c7dd9e8>]"
            ]
          },
          "metadata": {
            "tags": []
          },
          "execution_count": 27
        },
        {
          "output_type": "display_data",
          "data": {
            "image/png": "[encoded data removed]",
            "text/plain": [
              "<Figure size 432x288 with 1 Axes>"
            ]
          },
          "metadata": {
            "tags": []
          }
        }
      ]
    },
    {
      "cell_type": "markdown",
      "metadata": {
        "id": "9n4tP3BTCOs0",
        "colab_type": "text"
      },
      "source": [
        "load the validation abnormal labels"
      ]
    },
    {
      "cell_type": "code",
      "metadata": {
        "id": "W4zi5_70_IV2",
        "colab_type": "code",
        "colab": {}
      },
      "source": [
        "valid_abnormal_labels = pd.read_csv(main_dir+'/' + \"valid-abnormal.csv\", header=None)[1].values"
      ],
      "execution_count": 0,
      "outputs": []
    },
    {
      "cell_type": "markdown",
      "metadata": {
        "id": "Zu0USg-rCTWP",
        "colab_type": "text"
      },
      "source": [
        "load the validation axial data"
      ]
    },
    {
      "cell_type": "code",
      "metadata": {
        "id": "uTCU2bf3_Wwa",
        "colab_type": "code",
        "colab": {}
      },
      "source": [
        "valid_axial = scan_series_Array(main_dir,\"valid\", \"axial\", 120, 0)"
      ],
      "execution_count": 0,
      "outputs": []
    },
    {
      "cell_type": "code",
      "metadata": {
        "id": "YP4P69aj_mzq",
        "colab_type": "code",
        "outputId": "0b12225e-e706-4f3d-c672-79531891f766",
        "colab": {
          "base_uri": "https://localhost:8080/",
          "height": 34
        }
      },
      "source": [
        "valid_axial.shape"
      ],
      "execution_count": 0,
      "outputs": [
        {
          "output_type": "execute_result",
          "data": {
            "text/plain": [
              "(120, 256, 256, 3)"
            ]
          },
          "metadata": {
            "tags": []
          },
          "execution_count": 63
        }
      ]
    },
    {
      "cell_type": "code",
      "metadata": {
        "colab_type": "code",
        "outputId": "dc032155-48e0-443a-babb-0478adb065c1",
        "id": "AThGReSI3LUc",
        "colab": {
          "base_uri": "https://localhost:8080/",
          "height": 70
        }
      },
      "source": [
        "score=abnormal_axial_model.evaluate(valid_axial,valid_abnormal_labels)\n",
        "print (score)\n",
        "print(abnormal_axial_model.metrics_names)"
      ],
      "execution_count": 0,
      "outputs": [
        {
          "output_type": "stream",
          "text": [
            "120/120 [==============================] - 3s 27ms/step\n",
            "[0.3659030372897784, 0.8583333293596903]\n",
            "['loss', 'acc']\n"
          ],
          "name": "stdout"
        }
      ]
    },
    {
      "cell_type": "markdown",
      "metadata": {
        "id": "4ryx2Uziy2Ab",
        "colab_type": "text"
      },
      "source": [
        "save abnormal axial model predictions"
      ]
    },
    {
      "cell_type": "code",
      "metadata": {
        "id": "Eghc_2GQy42C",
        "colab_type": "code",
        "colab": {}
      },
      "source": [
        "abnormal_axial_model.load_weights('abnormal_axial_weights.h5')"
      ],
      "execution_count": 0,
      "outputs": []
    },
    {
      "cell_type": "code",
      "metadata": {
        "id": "OPyR7-tYy1bk",
        "colab_type": "code",
        "colab": {}
      },
      "source": [
        "axial_abnormal_prediction=abnormal_axial_model.predict(valid_axial)\n",
        "np.save('axial_abnormal_prediction',axial_abnormal_prediction)"
      ],
      "execution_count": 0,
      "outputs": []
    },
    {
      "cell_type": "markdown",
      "metadata": {
        "id": "5o87Tt_Z3ude",
        "colab_type": "text"
      },
      "source": [
        "# **abnormal coronal**\n",
        "\n"
      ]
    },
    {
      "cell_type": "markdown",
      "metadata": {
        "colab_type": "text",
        "id": "h-JT9IC06A1N"
      },
      "source": [
        "get the abnormal axial training data"
      ]
    },
    {
      "cell_type": "code",
      "metadata": {
        "colab_type": "code",
        "id": "bz2c9Jrm6A1O",
        "colab": {}
      },
      "source": [
        "train_coronal= scan_series_Array(main_dir,\"train\", \"coronal\", 1130, 0)"
      ],
      "execution_count": 0,
      "outputs": []
    },
    {
      "cell_type": "markdown",
      "metadata": {
        "id": "MVpHxC--4x7D",
        "colab_type": "text"
      },
      "source": [
        "create the model"
      ]
    },
    {
      "cell_type": "code",
      "metadata": {
        "colab_type": "code",
        "id": "ufCfNlLc4oNu",
        "colab": {}
      },
      "source": [
        "abnormal_coronal_model=Model(inputs=base_model.input,outputs=preds)"
      ],
      "execution_count": 0,
      "outputs": []
    },
    {
      "cell_type": "code",
      "metadata": {
        "colab_type": "code",
        "id": "LCCxb-qR4oNy",
        "colab": {}
      },
      "source": [
        "#compile\n",
        "abnormal_coronal_model.compile(optimizer='Adam',loss='binary_crossentropy',metrics=['accuracy'])"
      ],
      "execution_count": 0,
      "outputs": []
    },
    {
      "cell_type": "code",
      "metadata": {
        "colab_type": "code",
        "outputId": "6f3d0033-f4d7-4cb1-998f-ee3530ce7878",
        "id": "1WZU189P5Lc7",
        "colab": {
          "base_uri": "https://localhost:8080/",
          "height": 34
        }
      },
      "source": [
        "import gc\n",
        "gc.collect()"
      ],
      "execution_count": 0,
      "outputs": [
        {
          "output_type": "execute_result",
          "data": {
            "text/plain": [
              "0"
            ]
          },
          "metadata": {
            "tags": []
          },
          "execution_count": 25
        }
      ]
    },
    {
      "cell_type": "markdown",
      "metadata": {
        "colab_type": "text",
        "id": "HJiODrMu-hwF"
      },
      "source": [
        " create an instance of the cass metrics to pass it as an argument for the model"
      ]
    },
    {
      "cell_type": "code",
      "metadata": {
        "colab_type": "code",
        "id": "IwpnYcUd-hwJ",
        "colab": {}
      },
      "source": [
        "metrics_ab_cor = Metrics()"
      ],
      "execution_count": 0,
      "outputs": []
    },
    {
      "cell_type": "code",
      "metadata": {
        "colab_type": "code",
        "outputId": "97228634-ccd7-4f67-e04e-ba7b01721129",
        "id": "bmM-Q_1Z5LdC",
        "colab": {
          "base_uri": "https://localhost:8080/",
          "height": 1125
        }
      },
      "source": [
        "history4=abnormal_coronal_model.fit(train_coronal, train_abnormal_labels, epochs = 20,\n",
        "                  shuffle=True, verbose = 1, validation_split=0.02,callbacks=[metrics_ab_cor])"
      ],
      "execution_count": 0,
      "outputs": [
        {
          "output_type": "stream",
          "text": [
            "WARNING:tensorflow:From /usr/local/lib/python3.6/dist-packages/tensorflow/python/ops/math_ops.py:3066: to_int32 (from tensorflow.python.ops.math_ops) is deprecated and will be removed in a future version.\n",
            "Instructions for updating:\n",
            "Use tf.cast instead.\n",
            "Train on 1107 samples, validate on 23 samples\n",
            "Epoch 1/20\n",
            "1107/1107 [==============================] - 12s 11ms/step - loss: 0.4940 - acc: 0.7895 - val_loss: 0.4669 - val_acc: 0.7826\n",
            "— val_f1: 0.8780487804878049\n",
            "Epoch 2/20\n",
            "1107/1107 [==============================] - 7s 7ms/step - loss: 0.4396 - acc: 0.8076 - val_loss: 0.4401 - val_acc: 0.8261\n",
            "— val_f1: 0.9047619047619047\n",
            "Epoch 3/20\n",
            "1107/1107 [==============================] - 8s 7ms/step - loss: 0.4066 - acc: 0.8148 - val_loss: 0.4025 - val_acc: 0.7826\n",
            "— val_f1: 0.8780487804878049\n",
            "Epoch 4/20\n",
            "1107/1107 [==============================] - 8s 7ms/step - loss: 0.3852 - acc: 0.8248 - val_loss: 0.3954 - val_acc: 0.8261\n",
            "— val_f1: 0.9047619047619047\n",
            "Epoch 5/20\n",
            "1107/1107 [==============================] - 8s 7ms/step - loss: 0.3739 - acc: 0.8311 - val_loss: 0.3993 - val_acc: 0.7391\n",
            "— val_f1: 0.8421052631578947\n",
            "Epoch 6/20\n",
            "1107/1107 [==============================] - 8s 7ms/step - loss: 0.3615 - acc: 0.8374 - val_loss: 0.3816 - val_acc: 0.8696\n",
            "— val_f1: 0.9268292682926829\n",
            "Epoch 7/20\n",
            "1107/1107 [==============================] - 8s 7ms/step - loss: 0.3468 - acc: 0.8519 - val_loss: 0.3869 - val_acc: 0.8261\n",
            "— val_f1: 0.9047619047619047\n",
            "Epoch 8/20\n",
            "1107/1107 [==============================] - 8s 7ms/step - loss: 0.3398 - acc: 0.8546 - val_loss: 0.3673 - val_acc: 0.8261\n",
            "— val_f1: 0.9\n",
            "Epoch 9/20\n",
            "1107/1107 [==============================] - 8s 7ms/step - loss: 0.3283 - acc: 0.8546 - val_loss: 0.3910 - val_acc: 0.8261\n",
            "— val_f1: 0.9047619047619047\n",
            "Epoch 10/20\n",
            "1107/1107 [==============================] - 8s 7ms/step - loss: 0.3228 - acc: 0.8546 - val_loss: 0.3737 - val_acc: 0.8696\n",
            "— val_f1: 0.9268292682926829\n",
            "Epoch 11/20\n",
            "1107/1107 [==============================] - 8s 7ms/step - loss: 0.3181 - acc: 0.8591 - val_loss: 0.3753 - val_acc: 0.8261\n",
            "— val_f1: 0.9\n",
            "Epoch 12/20\n",
            "1107/1107 [==============================] - 8s 7ms/step - loss: 0.3077 - acc: 0.8654 - val_loss: 0.3721 - val_acc: 0.8261\n",
            "— val_f1: 0.9\n",
            "Epoch 13/20\n",
            "1107/1107 [==============================] - 8s 7ms/step - loss: 0.3046 - acc: 0.8555 - val_loss: 0.3902 - val_acc: 0.8261\n",
            "— val_f1: 0.9047619047619047\n",
            "Epoch 14/20\n",
            "1107/1107 [==============================] - 8s 7ms/step - loss: 0.3015 - acc: 0.8636 - val_loss: 0.3813 - val_acc: 0.7391\n",
            "— val_f1: 0.8421052631578947\n",
            "Epoch 15/20\n",
            "1107/1107 [==============================] - 8s 7ms/step - loss: 0.2987 - acc: 0.8672 - val_loss: 0.3777 - val_acc: 0.7391\n",
            "— val_f1: 0.8421052631578947\n",
            "Epoch 16/20\n",
            "1107/1107 [==============================] - 8s 7ms/step - loss: 0.2892 - acc: 0.8771 - val_loss: 0.3780 - val_acc: 0.7391\n",
            "— val_f1: 0.8421052631578947\n",
            "Epoch 17/20\n",
            "1107/1107 [==============================] - 8s 7ms/step - loss: 0.2803 - acc: 0.8790 - val_loss: 0.3903 - val_acc: 0.8696\n",
            "— val_f1: 0.9268292682926829\n",
            "Epoch 18/20\n",
            "1107/1107 [==============================] - 8s 7ms/step - loss: 0.2796 - acc: 0.8780 - val_loss: 0.3867 - val_acc: 0.7826\n",
            "— val_f1: 0.8780487804878049\n",
            "Epoch 19/20\n",
            "1107/1107 [==============================] - 8s 7ms/step - loss: 0.2745 - acc: 0.8862 - val_loss: 0.3974 - val_acc: 0.6957\n",
            "— val_f1: 0.8205128205128205\n",
            "Epoch 20/20\n",
            "1107/1107 [==============================] - 8s 7ms/step - loss: 0.2679 - acc: 0.8871 - val_loss: 0.3715 - val_acc: 0.8261\n",
            "— val_f1: 0.9\n"
          ],
          "name": "stdout"
        }
      ]
    },
    {
      "cell_type": "markdown",
      "metadata": {
        "colab_type": "text",
        "id": "qeZcYkoK5LdG"
      },
      "source": [
        "save the model"
      ]
    },
    {
      "cell_type": "code",
      "metadata": {
        "colab_type": "code",
        "id": "2oAXadtw5LdH",
        "colab": {}
      },
      "source": [
        "abnormal_coronal_model.save_weights('abnormal_coronal_weights.h5') #load best weights"
      ],
      "execution_count": 0,
      "outputs": []
    },
    {
      "cell_type": "markdown",
      "metadata": {
        "colab_type": "text",
        "id": "fLBx6jyF5LdI"
      },
      "source": [
        "get accuracy and f score"
      ]
    },
    {
      "cell_type": "code",
      "metadata": {
        "colab_type": "code",
        "id": "Ig9gqT2T5LdJ",
        "colab": {}
      },
      "source": [
        "coronal_abnormal_train_acc = history4.history['acc']\n",
        "coronal_abnormal_train_loss = history4.history['loss']\n",
        "coronal_abnormal_train_fscore = metrics_ab_cor.get_data()"
      ],
      "execution_count": 0,
      "outputs": []
    },
    {
      "cell_type": "markdown",
      "metadata": {
        "colab_type": "text",
        "id": "L1tt7TeU5LdL"
      },
      "source": [
        "plot metrics"
      ]
    },
    {
      "cell_type": "markdown",
      "metadata": {
        "colab_type": "text",
        "id": "rGIoLb885LdM"
      },
      "source": [
        "Accuracy"
      ]
    },
    {
      "cell_type": "code",
      "metadata": {
        "colab_type": "code",
        "outputId": "23a96216-40bb-4ca1-fe29-52103fcd00e6",
        "id": "Y26L0P0M5LdN",
        "colab": {
          "base_uri": "https://localhost:8080/",
          "height": 281
        }
      },
      "source": [
        "plt.plot(coronal_abnormal_train_acc)\n",
        "plt.title('training curve')\n",
        "plt.show()"
      ],
      "execution_count": 0,
      "outputs": [
        {
          "output_type": "display_data",
          "data": {
            "image/png": "[encoded data removed]",
            "text/plain": [
              "<Figure size 432x288 with 1 Axes>"
            ]
          },
          "metadata": {
            "tags": []
          }
        }
      ]
    },
    {
      "cell_type": "markdown",
      "metadata": {
        "colab_type": "text",
        "id": "sPAqU07o5LdQ"
      },
      "source": [
        "loss"
      ]
    },
    {
      "cell_type": "code",
      "metadata": {
        "colab_type": "code",
        "outputId": "6a3a26a9-0429-43a7-8100-f161eab3eb74",
        "id": "GEF4IaJp5LdQ",
        "colab": {
          "base_uri": "https://localhost:8080/",
          "height": 298
        }
      },
      "source": [
        "plt.plot(coronal_abnormal_train_loss)\n",
        "plt.title('training curve')"
      ],
      "execution_count": 0,
      "outputs": [
        {
          "output_type": "execute_result",
          "data": {
            "text/plain": [
              "Text(0.5, 1.0, 'training curve')"
            ]
          },
          "metadata": {
            "tags": []
          },
          "execution_count": 38
        },
        {
          "output_type": "display_data",
          "data": {
            "image/png": "[encoded data removed]",
            "text/plain": [
              "<Figure size 432x288 with 1 Axes>"
            ]
          },
          "metadata": {
            "tags": []
          }
        }
      ]
    },
    {
      "cell_type": "code",
      "metadata": {
        "colab_type": "code",
        "outputId": "ecce90f7-80bf-4302-a575-31571f20ec00",
        "id": "XrgiNDk_5LdT",
        "colab": {
          "base_uri": "https://localhost:8080/",
          "height": 286
        }
      },
      "source": [
        "plt.plot(coronal_abnormal_train_fscore)"
      ],
      "execution_count": 0,
      "outputs": [
        {
          "output_type": "execute_result",
          "data": {
            "text/plain": [
              "[<matplotlib.lines.Line2D at 0x7fa7de35bfd0>]"
            ]
          },
          "metadata": {
            "tags": []
          },
          "execution_count": 39
        },
        {
          "output_type": "display_data",
          "data": {
            "image/png": "[encoded data removed]",
            "text/plain": [
              "<Figure size 432x288 with 1 Axes>"
            ]
          },
          "metadata": {
            "tags": []
          }
        }
      ]
    },
    {
      "cell_type": "markdown",
      "metadata": {
        "colab_type": "text",
        "id": "b4NKiQlK5LdY"
      },
      "source": [
        "load the validation abnormal labels"
      ]
    },
    {
      "cell_type": "code",
      "metadata": {
        "colab_type": "code",
        "id": "scBrfrt05LdY",
        "colab": {}
      },
      "source": [
        "valid_abnormal_labels = pd.read_csv(main_dir+'/' + \"valid-abnormal.csv\", header=None)[1].values"
      ],
      "execution_count": 0,
      "outputs": []
    },
    {
      "cell_type": "markdown",
      "metadata": {
        "colab_type": "text",
        "id": "bd9Ai8_L5Lda"
      },
      "source": [
        "load the validation axial data"
      ]
    },
    {
      "cell_type": "code",
      "metadata": {
        "colab_type": "code",
        "id": "v3YdRBH05Ldb",
        "colab": {}
      },
      "source": [
        "valid_coronal = scan_series_Array(main_dir,\"valid\", \"coronal\", 120, 0)"
      ],
      "execution_count": 0,
      "outputs": []
    },
    {
      "cell_type": "code",
      "metadata": {
        "colab_type": "code",
        "outputId": "5460b628-c0f8-491e-c878-1f5c28feb41c",
        "id": "i1gaA0VL538L",
        "colab": {
          "base_uri": "https://localhost:8080/",
          "height": 68
        }
      },
      "source": [
        "ab_cor_score=abnormal_coronal_model.evaluate(valid_coronal,valid_abnormal_labels)\n",
        "print (ab_cor_score)\n",
        "print(abnormal_coronal_model.metrics_names)"
      ],
      "execution_count": 0,
      "outputs": [
        {
          "output_type": "stream",
          "text": [
            "120/120 [==============================] - 1s 7ms/step\n",
            "[0.4410544956723849, 0.8333333373069763]\n",
            "['loss', 'acc']\n"
          ],
          "name": "stdout"
        }
      ]
    },
    {
      "cell_type": "markdown",
      "metadata": {
        "id": "kDdpenSiFcn_",
        "colab_type": "text"
      },
      "source": [
        "load weights directly"
      ]
    },
    {
      "cell_type": "code",
      "metadata": {
        "colab_type": "code",
        "id": "mpddzGPl5Ldh",
        "colab": {}
      },
      "source": [
        "abnormal_coronal_model.load_weights('abnormal_coronal_weights.h5')"
      ],
      "execution_count": 0,
      "outputs": []
    },
    {
      "cell_type": "markdown",
      "metadata": {
        "colab_type": "text",
        "id": "JGZjLeOL5Ldg"
      },
      "source": [
        "save abnormal axial model predictions"
      ]
    },
    {
      "cell_type": "code",
      "metadata": {
        "colab_type": "code",
        "id": "NERIRIJk5Ldj",
        "colab": {}
      },
      "source": [
        "coronal_abnormal_prediction=abnormal_coronal_model.predict(valid_coronal)\n",
        "np.save('coronal_abnormal_prediction',coronal_abnormal_prediction)"
      ],
      "execution_count": 0,
      "outputs": []
    },
    {
      "cell_type": "markdown",
      "metadata": {
        "colab_type": "text",
        "id": "a-iuD8kKirqW"
      },
      "source": [
        "# **abnormal sagittal**\n",
        "\n"
      ]
    },
    {
      "cell_type": "markdown",
      "metadata": {
        "colab_type": "text",
        "id": "GUk_ZHpHirqg"
      },
      "source": [
        "get the abnormal sagittal training data"
      ]
    },
    {
      "cell_type": "code",
      "metadata": {
        "colab_type": "code",
        "id": "jhxpQ5O5irqj",
        "colab": {}
      },
      "source": [
        "train_sagittal= scan_series_Array(main_dir,\"train\", \"sagittal\", 1130, 0)"
      ],
      "execution_count": 0,
      "outputs": []
    },
    {
      "cell_type": "markdown",
      "metadata": {
        "colab_type": "text",
        "id": "5fq2Qy68irqu"
      },
      "source": [
        "create the model"
      ]
    },
    {
      "cell_type": "code",
      "metadata": {
        "colab_type": "code",
        "id": "qYsfbQMsirqw",
        "colab": {}
      },
      "source": [
        "abnormal_sagittal_model=Model(inputs=base_model.input,outputs=preds)"
      ],
      "execution_count": 0,
      "outputs": []
    },
    {
      "cell_type": "code",
      "metadata": {
        "colab_type": "code",
        "id": "I7zgAXfpirq5",
        "colab": {}
      },
      "source": [
        "#compile\n",
        "abnormal_sagittal_model.compile(optimizer='Adam',loss='binary_crossentropy',metrics=['accuracy'])"
      ],
      "execution_count": 0,
      "outputs": []
    },
    {
      "cell_type": "code",
      "metadata": {
        "colab_type": "code",
        "outputId": "90190f37-960c-4e26-eb47-86cf8f0ca0ea",
        "id": "1Teq7moNirq7",
        "colab": {
          "base_uri": "https://localhost:8080/",
          "height": 34
        }
      },
      "source": [
        "import gc\n",
        "gc.collect()"
      ],
      "execution_count": 0,
      "outputs": [
        {
          "output_type": "execute_result",
          "data": {
            "text/plain": [
              "85"
            ]
          },
          "metadata": {
            "tags": []
          },
          "execution_count": 56
        }
      ]
    },
    {
      "cell_type": "markdown",
      "metadata": {
        "colab_type": "text",
        "id": "dCSrh8xKirrB"
      },
      "source": [
        " create an instance of the cass metrics to pass it as an argument for the model"
      ]
    },
    {
      "cell_type": "code",
      "metadata": {
        "colab_type": "code",
        "id": "rWrXCSTCirrD",
        "colab": {}
      },
      "source": [
        "metrics_ab_sag = Metrics()"
      ],
      "execution_count": 0,
      "outputs": []
    },
    {
      "cell_type": "code",
      "metadata": {
        "colab_type": "code",
        "id": "Ux584ll8irrF",
        "outputId": "b6a840bb-7254-4cfe-c0a2-7150d3837f28",
        "colab": {
          "base_uri": "https://localhost:8080/",
          "height": 1074
        }
      },
      "source": [
        "history8=abnormal_sagittal_model.fit(train_sagittal, train_abnormal_labels, epochs = 20,\n",
        "                  shuffle=True, verbose = 1,batch_size=32, validation_split=0.02,callbacks=[metrics_ab_sag])"
      ],
      "execution_count": 0,
      "outputs": [
        {
          "output_type": "stream",
          "text": [
            "Train on 1107 samples, validate on 23 samples\n",
            "Epoch 1/20\n",
            "1107/1107 [==============================] - 8s 7ms/step - loss: 1.1534 - acc: 0.7236 - val_loss: 0.7641 - val_acc: 0.7826\n",
            "— val_f1: 0.8780487804878049\n",
            "Epoch 2/20\n",
            "1107/1107 [==============================] - 8s 7ms/step - loss: 0.4993 - acc: 0.7958 - val_loss: 0.4872 - val_acc: 0.8261\n",
            "— val_f1: 0.9\n",
            "Epoch 3/20\n",
            "1107/1107 [==============================] - 8s 7ms/step - loss: 0.3989 - acc: 0.8229 - val_loss: 0.4401 - val_acc: 0.7826\n",
            "— val_f1: 0.8717948717948718\n",
            "Epoch 4/20\n",
            "1107/1107 [==============================] - 8s 7ms/step - loss: 0.3834 - acc: 0.8320 - val_loss: 0.4306 - val_acc: 0.8696\n",
            "— val_f1: 0.918918918918919\n",
            "Epoch 5/20\n",
            "1107/1107 [==============================] - 8s 7ms/step - loss: 0.3843 - acc: 0.8275 - val_loss: 0.3539 - val_acc: 0.8261\n",
            "— val_f1: 0.8947368421052632\n",
            "Epoch 6/20\n",
            "1107/1107 [==============================] - 8s 7ms/step - loss: 0.2940 - acc: 0.8663 - val_loss: 0.3047 - val_acc: 0.7826\n",
            "— val_f1: 0.8717948717948718\n",
            "Epoch 7/20\n",
            "1107/1107 [==============================] - 8s 7ms/step - loss: 0.2503 - acc: 0.8889 - val_loss: 0.2989 - val_acc: 0.8261\n",
            "— val_f1: 0.8947368421052632\n",
            "Epoch 8/20\n",
            "1107/1107 [==============================] - 7s 7ms/step - loss: 0.2296 - acc: 0.9079 - val_loss: 0.2822 - val_acc: 0.8261\n",
            "— val_f1: 0.8947368421052632\n",
            "Epoch 9/20\n",
            "1107/1107 [==============================] - 7s 7ms/step - loss: 0.2435 - acc: 0.8970 - val_loss: 0.2277 - val_acc: 0.8261\n",
            "— val_f1: 0.8947368421052632\n",
            "Epoch 10/20\n",
            "1107/1107 [==============================] - 8s 7ms/step - loss: 0.2012 - acc: 0.9106 - val_loss: 0.2493 - val_acc: 0.8261\n",
            "— val_f1: 0.8947368421052632\n",
            "Epoch 11/20\n",
            "1107/1107 [==============================] - 8s 7ms/step - loss: 0.1821 - acc: 0.9322 - val_loss: 0.2754 - val_acc: 0.8261\n",
            "— val_f1: 0.8947368421052632\n",
            "Epoch 12/20\n",
            "1107/1107 [==============================] - 8s 7ms/step - loss: 0.1820 - acc: 0.9295 - val_loss: 0.1791 - val_acc: 0.8696\n",
            "— val_f1: 0.9230769230769231\n",
            "Epoch 13/20\n",
            "1107/1107 [==============================] - 8s 7ms/step - loss: 0.1527 - acc: 0.9476 - val_loss: 0.2289 - val_acc: 0.9130\n",
            "— val_f1: 0.9444444444444444\n",
            "Epoch 14/20\n",
            "1107/1107 [==============================] - 8s 7ms/step - loss: 0.1548 - acc: 0.9476 - val_loss: 0.2163 - val_acc: 0.8261\n",
            "— val_f1: 0.8947368421052632\n",
            "Epoch 15/20\n",
            "1107/1107 [==============================] - 8s 7ms/step - loss: 0.1322 - acc: 0.9593 - val_loss: 0.2187 - val_acc: 0.8261\n",
            "— val_f1: 0.8947368421052632\n",
            "Epoch 16/20\n",
            "1107/1107 [==============================] - 8s 7ms/step - loss: 0.1187 - acc: 0.9648 - val_loss: 0.2208 - val_acc: 0.9130\n",
            "— val_f1: 0.9444444444444444\n",
            "Epoch 17/20\n",
            "1107/1107 [==============================] - 8s 7ms/step - loss: 0.1054 - acc: 0.9720 - val_loss: 0.2420 - val_acc: 0.9130\n",
            "— val_f1: 0.9444444444444444\n",
            "Epoch 18/20\n",
            "1107/1107 [==============================] - 8s 7ms/step - loss: 0.1182 - acc: 0.9603 - val_loss: 0.2503 - val_acc: 0.9130\n",
            "— val_f1: 0.9444444444444444\n",
            "Epoch 19/20\n",
            "1107/1107 [==============================] - 8s 7ms/step - loss: 0.1027 - acc: 0.9729 - val_loss: 0.2330 - val_acc: 0.8261\n",
            "— val_f1: 0.8947368421052632\n",
            "Epoch 20/20\n",
            "1107/1107 [==============================] - 8s 7ms/step - loss: 0.0963 - acc: 0.9666 - val_loss: 0.2987 - val_acc: 0.8696\n",
            "— val_f1: 0.918918918918919\n"
          ],
          "name": "stdout"
        }
      ]
    },
    {
      "cell_type": "markdown",
      "metadata": {
        "colab_type": "text",
        "id": "nBqAwhhDirrJ"
      },
      "source": [
        "save the model"
      ]
    },
    {
      "cell_type": "code",
      "metadata": {
        "colab_type": "code",
        "id": "EpT0gpLCirrJ",
        "colab": {}
      },
      "source": [
        "abnormal_sagittal_model.save_weights('abnormal_sagittal_weights.h5') #load best weights"
      ],
      "execution_count": 0,
      "outputs": []
    },
    {
      "cell_type": "markdown",
      "metadata": {
        "colab_type": "text",
        "id": "YQFf0TAhirrL"
      },
      "source": [
        "get accuracy and f score"
      ]
    },
    {
      "cell_type": "code",
      "metadata": {
        "colab_type": "code",
        "id": "MIhQ7EyYirrM",
        "colab": {}
      },
      "source": [
        "sagittal_abnormal_train_acc = history8.history['acc']\n",
        "sagittal_abnormal_train_loss = history8.history['loss']\n",
        "sagittal_abnormal_train_fscore = metrics_ab_sag.get_data()"
      ],
      "execution_count": 0,
      "outputs": []
    },
    {
      "cell_type": "markdown",
      "metadata": {
        "colab_type": "text",
        "id": "o3LUxjoWirrP"
      },
      "source": [
        "plot metrics"
      ]
    },
    {
      "cell_type": "markdown",
      "metadata": {
        "colab_type": "text",
        "id": "aTj-T_sXirrP"
      },
      "source": [
        "Accuracy"
      ]
    },
    {
      "cell_type": "code",
      "metadata": {
        "colab_type": "code",
        "outputId": "5d1aa1f5-83ee-4ddc-beb8-0a52539a5cca",
        "id": "VEwv-L2girrR",
        "colab": {
          "base_uri": "https://localhost:8080/",
          "height": 281
        }
      },
      "source": [
        "plt.plot(sagittal_abnormal_train_acc)\n",
        "plt.title('training curve')\n",
        "plt.show()"
      ],
      "execution_count": 0,
      "outputs": [
        {
          "output_type": "display_data",
          "data": {
            "image/png": "[encoded data removed]",
            "text/plain": [
              "<Figure size 432x288 with 1 Axes>"
            ]
          },
          "metadata": {
            "tags": []
          }
        }
      ]
    },
    {
      "cell_type": "markdown",
      "metadata": {
        "colab_type": "text",
        "id": "uhqZVTpQirrU"
      },
      "source": [
        "loss"
      ]
    },
    {
      "cell_type": "code",
      "metadata": {
        "colab_type": "code",
        "outputId": "ec142255-5258-4260-8550-6f4824180d57",
        "id": "o-Ox4_vXirrV",
        "colab": {
          "base_uri": "https://localhost:8080/",
          "height": 297
        }
      },
      "source": [
        "plt.plot(sagittal_abnormal_train_loss)\n",
        "plt.title('loss')"
      ],
      "execution_count": 0,
      "outputs": [
        {
          "output_type": "execute_result",
          "data": {
            "text/plain": [
              "Text(0.5, 1.0, 'loss')"
            ]
          },
          "metadata": {
            "tags": []
          },
          "execution_count": 55
        },
        {
          "output_type": "display_data",
          "data": {
            "image/png": "[encoded data removed]",
            "text/plain": [
              "<Figure size 432x288 with 1 Axes>"
            ]
          },
          "metadata": {
            "tags": []
          }
        }
      ]
    },
    {
      "cell_type": "code",
      "metadata": {
        "colab_type": "code",
        "outputId": "485991fe-cc9b-45b9-a49d-26ad62e59b79",
        "id": "beqJtUNcirra",
        "colab": {
          "base_uri": "https://localhost:8080/",
          "height": 297
        }
      },
      "source": [
        "plt.plot(sagittal_abnormal_train_fscore)\n",
        "plt.title('fscore')"
      ],
      "execution_count": 0,
      "outputs": [
        {
          "output_type": "execute_result",
          "data": {
            "text/plain": [
              "Text(0.5, 1.0, 'fscore')"
            ]
          },
          "metadata": {
            "tags": []
          },
          "execution_count": 57
        },
        {
          "output_type": "display_data",
          "data": {
            "image/png": "[encoded data removed]",
            "text/plain": [
              "<Figure size 432x288 with 1 Axes>"
            ]
          },
          "metadata": {
            "tags": []
          }
        }
      ]
    },
    {
      "cell_type": "markdown",
      "metadata": {
        "colab_type": "text",
        "id": "-aARcqfMirrd"
      },
      "source": [
        "load the validation abnormal labels"
      ]
    },
    {
      "cell_type": "code",
      "metadata": {
        "colab_type": "code",
        "id": "uFrjl7lPirre",
        "colab": {}
      },
      "source": [
        "valid_abnormal_labels = pd.read_csv(main_dir+'/' + \"valid-abnormal.csv\", header=None)[1].values"
      ],
      "execution_count": 0,
      "outputs": []
    },
    {
      "cell_type": "markdown",
      "metadata": {
        "colab_type": "text",
        "id": "eHHqysd7irrf"
      },
      "source": [
        "load the validation axial data"
      ]
    },
    {
      "cell_type": "code",
      "metadata": {
        "colab_type": "code",
        "id": "8w8-r3_Kirrg",
        "colab": {}
      },
      "source": [
        "valid_sagittal = scan_series_Array(main_dir,\"valid\", \"sagittal\", 120, 0)"
      ],
      "execution_count": 0,
      "outputs": []
    },
    {
      "cell_type": "code",
      "metadata": {
        "colab_type": "code",
        "outputId": "e6f238e1-f3c5-4c0b-ec83-b286328953eb",
        "id": "HLLh2iKMirri",
        "colab": {
          "base_uri": "https://localhost:8080/",
          "height": 70
        }
      },
      "source": [
        "sagittal_cor_score=abnormal_sagittal_model.evaluate(valid_sagittal,valid_abnormal_labels)\n",
        "print (sagittal_cor_score)\n",
        "print(abnormal_sagittal_model.metrics_names)"
      ],
      "execution_count": 0,
      "outputs": [
        {
          "output_type": "stream",
          "text": [
            "120/120 [==============================] - 2s 13ms/step\n",
            "[0.4598346143960953, 0.825]\n",
            "['loss', 'acc']\n"
          ],
          "name": "stdout"
        }
      ]
    },
    {
      "cell_type": "markdown",
      "metadata": {
        "colab_type": "text",
        "id": "AtJWWf9qirrl"
      },
      "source": [
        "load weights directly"
      ]
    },
    {
      "cell_type": "code",
      "metadata": {
        "colab_type": "code",
        "id": "8IpX_KMEirrm",
        "colab": {}
      },
      "source": [
        "abnormal_sagittal_model.load_weights('abnormal_sagittal_weights.h5')"
      ],
      "execution_count": 0,
      "outputs": []
    },
    {
      "cell_type": "markdown",
      "metadata": {
        "colab_type": "text",
        "id": "hZkm41P_irrn"
      },
      "source": [
        "save abnormal axial model predictions"
      ]
    },
    {
      "cell_type": "code",
      "metadata": {
        "colab_type": "code",
        "id": "WUx6GoDCirro",
        "colab": {}
      },
      "source": [
        "sagittal_abnormal_prediction=abnormal_sagittal_model.predict(valid_sagittal)\n",
        "np.save('sagittal_abnormal_prediction',sagittal_abnormal_prediction)"
      ],
      "execution_count": 0,
      "outputs": []
    },
    {
      "cell_type": "code",
      "metadata": {
        "id": "zzAa6Hoi5gRj",
        "colab_type": "code",
        "outputId": "41a3ddb8-7a2d-47ea-a3fc-63e811013a0e",
        "colab": {
          "base_uri": "https://localhost:8080/",
          "height": 2150
        }
      },
      "source": [
        "sagittal_abnormal_prediction.round()"
      ],
      "execution_count": 0,
      "outputs": [
        {
          "output_type": "execute_result",
          "data": {
            "text/plain": [
              "array([[0.],\n",
              "       [0.],\n",
              "       [1.],\n",
              "       [0.],\n",
              "       [1.],\n",
              "       [1.],\n",
              "       [1.],\n",
              "       [0.],\n",
              "       [1.],\n",
              "       [1.],\n",
              "       [1.],\n",
              "       [1.],\n",
              "       [1.],\n",
              "       [0.],\n",
              "       [1.],\n",
              "       [1.],\n",
              "       [1.],\n",
              "       [0.],\n",
              "       [1.],\n",
              "       [0.],\n",
              "       [0.],\n",
              "       [1.],\n",
              "       [0.],\n",
              "       [1.],\n",
              "       [1.],\n",
              "       [1.],\n",
              "       [1.],\n",
              "       [1.],\n",
              "       [1.],\n",
              "       [0.],\n",
              "       [1.],\n",
              "       [1.],\n",
              "       [1.],\n",
              "       [1.],\n",
              "       [1.],\n",
              "       [1.],\n",
              "       [1.],\n",
              "       [1.],\n",
              "       [1.],\n",
              "       [1.],\n",
              "       [1.],\n",
              "       [1.],\n",
              "       [1.],\n",
              "       [1.],\n",
              "       [1.],\n",
              "       [1.],\n",
              "       [1.],\n",
              "       [1.],\n",
              "       [1.],\n",
              "       [1.],\n",
              "       [1.],\n",
              "       [1.],\n",
              "       [1.],\n",
              "       [1.],\n",
              "       [1.],\n",
              "       [1.],\n",
              "       [1.],\n",
              "       [1.],\n",
              "       [1.],\n",
              "       [1.],\n",
              "       [1.],\n",
              "       [1.],\n",
              "       [1.],\n",
              "       [1.],\n",
              "       [1.],\n",
              "       [1.],\n",
              "       [1.],\n",
              "       [1.],\n",
              "       [1.],\n",
              "       [1.],\n",
              "       [0.],\n",
              "       [1.],\n",
              "       [1.],\n",
              "       [1.],\n",
              "       [1.],\n",
              "       [1.],\n",
              "       [1.],\n",
              "       [1.],\n",
              "       [1.],\n",
              "       [1.],\n",
              "       [1.],\n",
              "       [1.],\n",
              "       [1.],\n",
              "       [1.],\n",
              "       [1.],\n",
              "       [1.],\n",
              "       [1.],\n",
              "       [1.],\n",
              "       [1.],\n",
              "       [1.],\n",
              "       [1.],\n",
              "       [1.],\n",
              "       [1.],\n",
              "       [1.],\n",
              "       [1.],\n",
              "       [1.],\n",
              "       [1.],\n",
              "       [1.],\n",
              "       [1.],\n",
              "       [1.],\n",
              "       [1.],\n",
              "       [1.],\n",
              "       [1.],\n",
              "       [1.],\n",
              "       [1.],\n",
              "       [1.],\n",
              "       [0.],\n",
              "       [1.],\n",
              "       [1.],\n",
              "       [1.],\n",
              "       [1.],\n",
              "       [0.],\n",
              "       [1.],\n",
              "       [1.],\n",
              "       [1.],\n",
              "       [1.],\n",
              "       [1.],\n",
              "       [1.],\n",
              "       [1.],\n",
              "       [0.]], dtype=float32)"
            ]
          },
          "metadata": {
            "tags": []
          },
          "execution_count": 108
        }
      ]
    },
    {
      "cell_type": "markdown",
      "metadata": {
        "id": "jeafIQvSNHCO",
        "colab_type": "text"
      },
      "source": [
        "# **acl axial model**\n",
        "\n",
        "\n",
        "\n"
      ]
    },
    {
      "cell_type": "code",
      "metadata": {
        "id": "yWTk2bahHOkz",
        "colab_type": "code",
        "outputId": "ef028846-a847-41b2-e7e5-13e7e886f687",
        "colab": {
          "base_uri": "https://localhost:8080/",
          "height": 34
        }
      },
      "source": [
        "from collections import Counter \n",
        "def get_class_weights(y):\n",
        "    counter = Counter(y)\n",
        "    majority = max(counter.values())\n",
        "    return  {cls: float(majority/count) for cls, count in counter.items()}\n",
        "  \n",
        "class_weights=get_class_weights(train_acl_labels)\n",
        "\n",
        "print(class_weights)"
      ],
      "execution_count": 0,
      "outputs": [
        {
          "output_type": "stream",
          "text": [
            "{0: 1.0, 1: 4.4326923076923075}\n"
          ],
          "name": "stdout"
        }
      ]
    },
    {
      "cell_type": "markdown",
      "metadata": {
        "id": "BaXMdLllNORe",
        "colab_type": "text"
      },
      "source": [
        "load the acl train labels"
      ]
    },
    {
      "cell_type": "code",
      "metadata": {
        "id": "qDeCqrJFN6JM",
        "colab_type": "code",
        "colab": {}
      },
      "source": [
        "train_acl_labels = pd.read_csv(main_dir+'/' + \"train-acl.csv\", header=None)[1].values"
      ],
      "execution_count": 0,
      "outputs": []
    },
    {
      "cell_type": "markdown",
      "metadata": {
        "id": "OHEzNoPjOVEb",
        "colab_type": "text"
      },
      "source": [
        "create an instance of the cass metrics to pass it as an argument for the model"
      ]
    },
    {
      "cell_type": "code",
      "metadata": {
        "id": "0WUwvCLEOaRu",
        "colab_type": "code",
        "colab": {}
      },
      "source": [
        "metrics_acl_ax = Metrics()"
      ],
      "execution_count": 0,
      "outputs": []
    },
    {
      "cell_type": "markdown",
      "metadata": {
        "id": "FlfTR2AMOpmH",
        "colab_type": "text"
      },
      "source": [
        "create the axial acl model"
      ]
    },
    {
      "cell_type": "code",
      "metadata": {
        "id": "vesk8hXPOgn9",
        "colab_type": "code",
        "colab": {}
      },
      "source": [
        "acl_axial_model=Model(inputs=base_model.input,outputs=preds)"
      ],
      "execution_count": 0,
      "outputs": []
    },
    {
      "cell_type": "code",
      "metadata": {
        "id": "VdJCP0zqO4Xk",
        "colab_type": "code",
        "colab": {}
      },
      "source": [
        "#compile\n",
        "acl_axial_model.compile(optimizer='Adam',loss='binary_crossentropy',metrics=['accuracy'])"
      ],
      "execution_count": 0,
      "outputs": []
    },
    {
      "cell_type": "code",
      "metadata": {
        "id": "fxzqnDKCO_eL",
        "colab_type": "code",
        "outputId": "dded9097-7ba3-45ca-a924-8d590f728eca",
        "colab": {
          "base_uri": "https://localhost:8080/",
          "height": 34
        }
      },
      "source": [
        "import gc\n",
        "gc.collect()"
      ],
      "execution_count": 0,
      "outputs": [
        {
          "output_type": "execute_result",
          "data": {
            "text/plain": [
              "161"
            ]
          },
          "metadata": {
            "tags": []
          },
          "execution_count": 117
        }
      ]
    },
    {
      "cell_type": "code",
      "metadata": {
        "id": "AbjlN5vkJ5OB",
        "colab_type": "code",
        "colab": {}
      },
      "source": [
        "history2=acl_axial_model.fit(train_axial, train_acl_labels, epochs = 15,\n",
        "                  shuffle=True, verbose = 1, validation_split=0.02,callbacks=[metrics_acl_ax])"
      ],
      "execution_count": 0,
      "outputs": []
    },
    {
      "cell_type": "markdown",
      "metadata": {
        "id": "i2eC_ugsQ6Mo",
        "colab_type": "text"
      },
      "source": [
        "save the model"
      ]
    },
    {
      "cell_type": "markdown",
      "metadata": {
        "id": "qw3MLLPVn02S",
        "colab_type": "text"
      },
      "source": [
        "100 dense"
      ]
    },
    {
      "cell_type": "code",
      "metadata": {
        "id": "Esj-t2KUQ7bO",
        "colab_type": "code",
        "colab": {}
      },
      "source": [
        "acl_axial_model.save_weights('acl_axial_weights.h5') #load best weights"
      ],
      "execution_count": 0,
      "outputs": []
    },
    {
      "cell_type": "markdown",
      "metadata": {
        "id": "0T1US0W-RFgB",
        "colab_type": "text"
      },
      "source": [
        "plot metrics"
      ]
    },
    {
      "cell_type": "code",
      "metadata": {
        "id": "rmGwkBjnRYkN",
        "colab_type": "code",
        "colab": {}
      },
      "source": [
        "axial_acl_train_acc = history2.history['acc']\n",
        "axial_acl_train_loss = history2.history['loss']\n",
        "axial_acl_train_fscore = metrics_acl_ax.get_data()"
      ],
      "execution_count": 0,
      "outputs": []
    },
    {
      "cell_type": "markdown",
      "metadata": {
        "id": "vk8OYTWFRTOk",
        "colab_type": "text"
      },
      "source": [
        "accuracy:"
      ]
    },
    {
      "cell_type": "code",
      "metadata": {
        "id": "xVD769BrRJPi",
        "colab_type": "code",
        "outputId": "c1403e3e-2af3-4d70-f272-aaec5de91d18",
        "colab": {
          "base_uri": "https://localhost:8080/",
          "height": 281
        }
      },
      "source": [
        "plt.plot(axial_acl_train_acc)\n",
        "plt.title('training curve')\n",
        "plt.show()"
      ],
      "execution_count": 0,
      "outputs": [
        {
          "output_type": "display_data",
          "data": {
            "image/png": "[encoded data removed]",
            "text/plain": [
              "<Figure size 432x288 with 1 Axes>"
            ]
          },
          "metadata": {
            "tags": []
          }
        }
      ]
    },
    {
      "cell_type": "markdown",
      "metadata": {
        "id": "QdncgXq5eLkh",
        "colab_type": "text"
      },
      "source": [
        "loss"
      ]
    },
    {
      "cell_type": "code",
      "metadata": {
        "id": "Vkif_8dURk0w",
        "colab_type": "code",
        "outputId": "32b71d5b-9e12-4fd6-e256-141dbed6b450",
        "colab": {
          "base_uri": "https://localhost:8080/",
          "height": 297
        }
      },
      "source": [
        "plt.plot(axial_acl_train_loss)\n",
        "plt.title('training curve')"
      ],
      "execution_count": 0,
      "outputs": [
        {
          "output_type": "execute_result",
          "data": {
            "text/plain": [
              "Text(0.5, 1.0, 'training curve')"
            ]
          },
          "metadata": {
            "tags": []
          },
          "execution_count": 33
        },
        {
          "output_type": "display_data",
          "data": {
            "image/png": "[encoded data removed]",
            "text/plain": [
              "<Figure size 432x288 with 1 Axes>"
            ]
          },
          "metadata": {
            "tags": []
          }
        }
      ]
    },
    {
      "cell_type": "code",
      "metadata": {
        "id": "WrGUEYZNeNbb",
        "colab_type": "code",
        "outputId": "3f8d2689-6d62-4d5e-d144-d7e3ae29e887",
        "colab": {
          "base_uri": "https://localhost:8080/",
          "height": 286
        }
      },
      "source": [
        "plt.plot(axial_acl_train_fscore)"
      ],
      "execution_count": 0,
      "outputs": [
        {
          "output_type": "execute_result",
          "data": {
            "text/plain": [
              "[<matplotlib.lines.Line2D at 0x7f250e128400>]"
            ]
          },
          "metadata": {
            "tags": []
          },
          "execution_count": 34
        },
        {
          "output_type": "display_data",
          "data": {
            "image/png": "[encoded data removed]",
            "text/plain": [
              "<Figure size 432x288 with 1 Axes>"
            ]
          },
          "metadata": {
            "tags": []
          }
        }
      ]
    },
    {
      "cell_type": "markdown",
      "metadata": {
        "id": "X674QglRfFmE",
        "colab_type": "text"
      },
      "source": [
        "load the validation abnormal labels"
      ]
    },
    {
      "cell_type": "code",
      "metadata": {
        "id": "YVHzruPnefNQ",
        "colab_type": "code",
        "colab": {}
      },
      "source": [
        "valid_acl_labels = pd.read_csv(main_dir+'/' + \"valid-acl.csv\", header=None)[1].values"
      ],
      "execution_count": 0,
      "outputs": []
    },
    {
      "cell_type": "markdown",
      "metadata": {
        "id": "ZoBeFyybuJaP",
        "colab_type": "text"
      },
      "source": [
        "load the saved weights"
      ]
    },
    {
      "cell_type": "code",
      "metadata": {
        "id": "PJHh7Kv4uMM7",
        "colab_type": "code",
        "colab": {}
      },
      "source": [
        "acl_axial_model.load_weights('acl_axial_weights.h5')"
      ],
      "execution_count": 0,
      "outputs": []
    },
    {
      "cell_type": "markdown",
      "metadata": {
        "id": "bHXcGwbBfe6y",
        "colab_type": "text"
      },
      "source": [
        "validate"
      ]
    },
    {
      "cell_type": "code",
      "metadata": {
        "id": "TC7704u-fObh",
        "colab_type": "code",
        "outputId": "f2c16aeb-5e62-4872-e7d9-4dd5dcbcba88",
        "colab": {
          "base_uri": "https://localhost:8080/",
          "height": 70
        }
      },
      "source": [
        "acl_axial_score=acl_axial_model.evaluate(valid_axial,valid_acl_labels)\n",
        "print (acl_axial_score)\n",
        "print(acl_axial_model.metrics_names)"
      ],
      "execution_count": 0,
      "outputs": [
        {
          "output_type": "stream",
          "text": [
            "120/120 [==============================] - 2s 14ms/step\n",
            "[1.6628428419431052, 0.7083333333333334]\n",
            "['loss', 'acc']\n"
          ],
          "name": "stdout"
        }
      ]
    },
    {
      "cell_type": "markdown",
      "metadata": {
        "id": "hogM3f970iPi",
        "colab_type": "text"
      },
      "source": [
        "save the axial acl model predictions"
      ]
    },
    {
      "cell_type": "code",
      "metadata": {
        "id": "6jxBhkXi0li-",
        "colab_type": "code",
        "colab": {}
      },
      "source": [
        "axial_acl_prediction=acl_axial_model.predict(valid_axial)\n",
        "np.save('axial_acl_prediction',axial_acl_prediction)"
      ],
      "execution_count": 0,
      "outputs": []
    },
    {
      "cell_type": "code",
      "metadata": {
        "id": "kgZw1n-BbcWG",
        "colab_type": "code",
        "outputId": "616df4ae-1bb2-491b-d069-b9a4562ff7d7",
        "colab": {
          "base_uri": "https://localhost:8080/",
          "height": 2150
        }
      },
      "source": [
        "axial_acl_prediction.round()"
      ],
      "execution_count": 0,
      "outputs": [
        {
          "output_type": "execute_result",
          "data": {
            "text/plain": [
              "array([[0.],\n",
              "       [0.],\n",
              "       [0.],\n",
              "       [0.],\n",
              "       [0.],\n",
              "       [0.],\n",
              "       [0.],\n",
              "       [0.],\n",
              "       [0.],\n",
              "       [0.],\n",
              "       [0.],\n",
              "       [0.],\n",
              "       [0.],\n",
              "       [0.],\n",
              "       [0.],\n",
              "       [0.],\n",
              "       [0.],\n",
              "       [0.],\n",
              "       [0.],\n",
              "       [0.],\n",
              "       [0.],\n",
              "       [0.],\n",
              "       [0.],\n",
              "       [1.],\n",
              "       [0.],\n",
              "       [0.],\n",
              "       [0.],\n",
              "       [0.],\n",
              "       [1.],\n",
              "       [0.],\n",
              "       [0.],\n",
              "       [1.],\n",
              "       [0.],\n",
              "       [0.],\n",
              "       [0.],\n",
              "       [0.],\n",
              "       [0.],\n",
              "       [0.],\n",
              "       [0.],\n",
              "       [0.],\n",
              "       [0.],\n",
              "       [0.],\n",
              "       [0.],\n",
              "       [0.],\n",
              "       [0.],\n",
              "       [1.],\n",
              "       [0.],\n",
              "       [0.],\n",
              "       [0.],\n",
              "       [1.],\n",
              "       [0.],\n",
              "       [0.],\n",
              "       [0.],\n",
              "       [0.],\n",
              "       [1.],\n",
              "       [1.],\n",
              "       [0.],\n",
              "       [0.],\n",
              "       [1.],\n",
              "       [0.],\n",
              "       [1.],\n",
              "       [1.],\n",
              "       [0.],\n",
              "       [0.],\n",
              "       [0.],\n",
              "       [1.],\n",
              "       [0.],\n",
              "       [1.],\n",
              "       [1.],\n",
              "       [1.],\n",
              "       [1.],\n",
              "       [0.],\n",
              "       [0.],\n",
              "       [1.],\n",
              "       [1.],\n",
              "       [1.],\n",
              "       [1.],\n",
              "       [1.],\n",
              "       [1.],\n",
              "       [0.],\n",
              "       [1.],\n",
              "       [0.],\n",
              "       [1.],\n",
              "       [0.],\n",
              "       [0.],\n",
              "       [0.],\n",
              "       [0.],\n",
              "       [0.],\n",
              "       [0.],\n",
              "       [0.],\n",
              "       [1.],\n",
              "       [0.],\n",
              "       [0.],\n",
              "       [0.],\n",
              "       [1.],\n",
              "       [0.],\n",
              "       [0.],\n",
              "       [0.],\n",
              "       [0.],\n",
              "       [1.],\n",
              "       [0.],\n",
              "       [0.],\n",
              "       [0.],\n",
              "       [0.],\n",
              "       [0.],\n",
              "       [0.],\n",
              "       [0.],\n",
              "       [0.],\n",
              "       [0.],\n",
              "       [0.],\n",
              "       [1.],\n",
              "       [0.],\n",
              "       [0.],\n",
              "       [0.],\n",
              "       [0.],\n",
              "       [0.],\n",
              "       [0.],\n",
              "       [0.],\n",
              "       [0.],\n",
              "       [0.]], dtype=float32)"
            ]
          },
          "metadata": {
            "tags": []
          },
          "execution_count": 37
        }
      ]
    },
    {
      "cell_type": "markdown",
      "metadata": {
        "id": "LJgCZ5SM9KGy",
        "colab_type": "text"
      },
      "source": [
        "# **acl coronal**"
      ]
    },
    {
      "cell_type": "markdown",
      "metadata": {
        "colab_type": "text",
        "id": "wjVB3rhW8L7I"
      },
      "source": [
        "create the model"
      ]
    },
    {
      "cell_type": "code",
      "metadata": {
        "colab_type": "code",
        "id": "uGXWny-i8L7J",
        "colab": {}
      },
      "source": [
        "acl_coronal_model=Model(inputs=base_model.input,outputs=preds)"
      ],
      "execution_count": 0,
      "outputs": []
    },
    {
      "cell_type": "code",
      "metadata": {
        "colab_type": "code",
        "id": "nrZxqdZ38L7R",
        "colab": {}
      },
      "source": [
        "#compile\n",
        "acl_coronal_model.compile(optimizer='Adam',loss='binary_crossentropy',metrics=['accuracy'])"
      ],
      "execution_count": 0,
      "outputs": []
    },
    {
      "cell_type": "code",
      "metadata": {
        "id": "vqHSOJHkMZDQ",
        "colab_type": "code",
        "outputId": "ab982f0b-1d5e-46e8-f20f-aa38511341ab",
        "colab": {
          "base_uri": "https://localhost:8080/",
          "height": 1054
        }
      },
      "source": [
        "acl_coronal_model.summary()"
      ],
      "execution_count": 0,
      "outputs": [
        {
          "output_type": "stream",
          "text": [
            "_________________________________________________________________\n",
            "Layer (type)                 Output Shape              Param #   \n",
            "=================================================================\n",
            "input_1 (InputLayer)         (None, 256, 256, 3)       0         \n",
            "_________________________________________________________________\n",
            "block1_conv1 (Conv2D)        (None, 256, 256, 64)      1792      \n",
            "_________________________________________________________________\n",
            "block1_conv2 (Conv2D)        (None, 256, 256, 64)      36928     \n",
            "_________________________________________________________________\n",
            "block1_pool (MaxPooling2D)   (None, 128, 128, 64)      0         \n",
            "_________________________________________________________________\n",
            "block2_conv1 (Conv2D)        (None, 128, 128, 128)     73856     \n",
            "_________________________________________________________________\n",
            "block2_conv2 (Conv2D)        (None, 128, 128, 128)     147584    \n",
            "_________________________________________________________________\n",
            "block2_pool (MaxPooling2D)   (None, 64, 64, 128)       0         \n",
            "_________________________________________________________________\n",
            "block3_conv1 (Conv2D)        (None, 64, 64, 256)       295168    \n",
            "_________________________________________________________________\n",
            "block3_conv2 (Conv2D)        (None, 64, 64, 256)       590080    \n",
            "_________________________________________________________________\n",
            "block3_conv3 (Conv2D)        (None, 64, 64, 256)       590080    \n",
            "_________________________________________________________________\n",
            "block3_pool (MaxPooling2D)   (None, 32, 32, 256)       0         \n",
            "_________________________________________________________________\n",
            "block4_conv1 (Conv2D)        (None, 32, 32, 512)       1180160   \n",
            "_________________________________________________________________\n",
            "block4_conv2 (Conv2D)        (None, 32, 32, 512)       2359808   \n",
            "_________________________________________________________________\n",
            "block4_conv3 (Conv2D)        (None, 32, 32, 512)       2359808   \n",
            "_________________________________________________________________\n",
            "block4_pool (MaxPooling2D)   (None, 16, 16, 512)       0         \n",
            "_________________________________________________________________\n",
            "block5_conv1 (Conv2D)        (None, 16, 16, 512)       2359808   \n",
            "_________________________________________________________________\n",
            "block5_conv2 (Conv2D)        (None, 16, 16, 512)       2359808   \n",
            "_________________________________________________________________\n",
            "block5_conv3 (Conv2D)        (None, 16, 16, 512)       2359808   \n",
            "_________________________________________________________________\n",
            "block5_pool (MaxPooling2D)   (None, 8, 8, 512)         0         \n",
            "_________________________________________________________________\n",
            "global_average_pooling2d_1 ( (None, 512)               0         \n",
            "_________________________________________________________________\n",
            "dense_1 (Dense)              (None, 256)               131328    \n",
            "_________________________________________________________________\n",
            "dropout_1 (Dropout)          (None, 256)               0         \n",
            "_________________________________________________________________\n",
            "dense_2 (Dense)              (None, 100)               25700     \n",
            "_________________________________________________________________\n",
            "dropout_2 (Dropout)          (None, 100)               0         \n",
            "_________________________________________________________________\n",
            "dense_3 (Dense)              (None, 10)                1010      \n",
            "_________________________________________________________________\n",
            "dropout_3 (Dropout)          (None, 10)                0         \n",
            "_________________________________________________________________\n",
            "dense_4 (Dense)              (None, 1)                 11        \n",
            "=================================================================\n",
            "Total params: 14,872,737\n",
            "Trainable params: 158,049\n",
            "Non-trainable params: 14,714,688\n",
            "_________________________________________________________________\n"
          ],
          "name": "stdout"
        }
      ]
    },
    {
      "cell_type": "code",
      "metadata": {
        "colab_type": "code",
        "outputId": "f0eaa4cf-6293-46f0-e86a-8b9e465f635f",
        "id": "bP4NKnxw8L7U",
        "colab": {
          "base_uri": "https://localhost:8080/",
          "height": 34
        }
      },
      "source": [
        "import gc\n",
        "gc.collect()"
      ],
      "execution_count": 0,
      "outputs": [
        {
          "output_type": "execute_result",
          "data": {
            "text/plain": [
              "0"
            ]
          },
          "metadata": {
            "tags": []
          },
          "execution_count": 17
        }
      ]
    },
    {
      "cell_type": "markdown",
      "metadata": {
        "colab_type": "text",
        "id": "_obwxWJEF8X5"
      },
      "source": [
        "create an instance of the cass metrics to pass it as an argument for the model"
      ]
    },
    {
      "cell_type": "code",
      "metadata": {
        "colab_type": "code",
        "id": "f0KYuQZAF8X6",
        "colab": {}
      },
      "source": [
        "metrics_acl_cor = Metrics()"
      ],
      "execution_count": 0,
      "outputs": []
    },
    {
      "cell_type": "code",
      "metadata": {
        "id": "cYZg4UuiMAAI",
        "colab_type": "code",
        "outputId": "329a0f08-1d5f-45b3-9e29-4e508aeb8f7b",
        "colab": {
          "base_uri": "https://localhost:8080/",
          "height": 2604
        }
      },
      "source": [
        "history5=acl_coronal_model.fit(train_coronal, train_acl_labels, epochs = 50,\n",
        "                  shuffle=True, class_weight={0: 1.0, 1: 2.0}, verbose = 1, \n",
        "                  batch_size=100,validation_split=0.05,callbacks=[metrics_acl_cor])"
      ],
      "execution_count": 0,
      "outputs": [
        {
          "output_type": "stream",
          "text": [
            "Train on 1073 samples, validate on 57 samples\n",
            "Epoch 1/50\n",
            "1073/1073 [==============================] - 9s 8ms/step - loss: 0.6170 - acc: 0.8117 - val_loss: 0.7152 - val_acc: 0.8421\n",
            "— val_f1: 0.47058823529411764\n",
            "Epoch 2/50\n",
            "1073/1073 [==============================] - 8s 8ms/step - loss: 0.3742 - acc: 0.8816 - val_loss: 0.7711 - val_acc: 0.8246\n",
            "— val_f1: 0.4444444444444444\n",
            "Epoch 3/50\n",
            "1073/1073 [==============================] - 8s 8ms/step - loss: 0.3566 - acc: 0.8910 - val_loss: 0.7582 - val_acc: 0.7544\n",
            "— val_f1: 0.46153846153846156\n",
            "Epoch 4/50\n",
            "1073/1073 [==============================] - 8s 8ms/step - loss: 0.3248 - acc: 0.8966 - val_loss: 0.7878 - val_acc: 0.8596\n",
            "— val_f1: 0.5555555555555556\n",
            "Epoch 5/50\n",
            "1073/1073 [==============================] - 8s 7ms/step - loss: 0.2866 - acc: 0.9077 - val_loss: 0.9335 - val_acc: 0.7719\n",
            "— val_f1: 0.380952380952381\n",
            "Epoch 6/50\n",
            "1073/1073 [==============================] - 8s 7ms/step - loss: 0.2458 - acc: 0.9254 - val_loss: 0.8509 - val_acc: 0.7895\n",
            "— val_f1: 0.39999999999999997\n",
            "Epoch 7/50\n",
            "1073/1073 [==============================] - 8s 7ms/step - loss: 0.2668 - acc: 0.9105 - val_loss: 0.7824 - val_acc: 0.8246\n",
            "— val_f1: 0.5454545454545455\n",
            "Epoch 8/50\n",
            "1073/1073 [==============================] - 8s 7ms/step - loss: 0.2363 - acc: 0.9292 - val_loss: 1.0489 - val_acc: 0.7544\n",
            "— val_f1: 0.3636363636363637\n",
            "Epoch 9/50\n",
            "1073/1073 [==============================] - 8s 7ms/step - loss: 0.2253 - acc: 0.9245 - val_loss: 1.1953 - val_acc: 0.8070\n",
            "— val_f1: 0.35294117647058826\n",
            "Epoch 10/50\n",
            "1073/1073 [==============================] - 8s 7ms/step - loss: 0.2259 - acc: 0.9236 - val_loss: 1.0345 - val_acc: 0.8246\n",
            "— val_f1: 0.4444444444444444\n",
            "Epoch 11/50\n",
            "1073/1073 [==============================] - 8s 7ms/step - loss: 0.1870 - acc: 0.9487 - val_loss: 1.0484 - val_acc: 0.7895\n",
            "— val_f1: 0.5\n",
            "Epoch 12/50\n",
            "1073/1073 [==============================] - 8s 7ms/step - loss: 0.1959 - acc: 0.9385 - val_loss: 1.0485 - val_acc: 0.7895\n",
            "— val_f1: 0.39999999999999997\n",
            "Epoch 13/50\n",
            "1073/1073 [==============================] - 8s 7ms/step - loss: 0.1884 - acc: 0.9450 - val_loss: 1.0089 - val_acc: 0.7895\n",
            "— val_f1: 0.4545454545454546\n",
            "Epoch 14/50\n",
            "1073/1073 [==============================] - 8s 7ms/step - loss: 0.1615 - acc: 0.9422 - val_loss: 1.1757 - val_acc: 0.8596\n",
            "— val_f1: 0.5\n",
            "Epoch 15/50\n",
            "1073/1073 [==============================] - 8s 7ms/step - loss: 0.1801 - acc: 0.9469 - val_loss: 1.2072 - val_acc: 0.7895\n",
            "— val_f1: 0.4545454545454546\n",
            "Epoch 16/50\n",
            "1073/1073 [==============================] - 8s 7ms/step - loss: 0.1685 - acc: 0.9422 - val_loss: 1.3336 - val_acc: 0.7719\n",
            "— val_f1: 0.3157894736842105\n",
            "Epoch 17/50\n",
            "1073/1073 [==============================] - 8s 7ms/step - loss: 0.1364 - acc: 0.9590 - val_loss: 1.1528 - val_acc: 0.8596\n",
            "— val_f1: 0.6\n",
            "Epoch 18/50\n",
            "1073/1073 [==============================] - 8s 7ms/step - loss: 0.1508 - acc: 0.9487 - val_loss: 1.3113 - val_acc: 0.7719\n",
            "— val_f1: 0.43478260869565216\n",
            "Epoch 19/50\n",
            "1073/1073 [==============================] - 8s 7ms/step - loss: 0.1769 - acc: 0.9422 - val_loss: 1.1291 - val_acc: 0.7719\n",
            "— val_f1: 0.43478260869565216\n",
            "Epoch 20/50\n",
            "1073/1073 [==============================] - 8s 7ms/step - loss: 0.1804 - acc: 0.9534 - val_loss: 1.4925 - val_acc: 0.8421\n",
            "— val_f1: 0.30769230769230765\n",
            "Epoch 21/50\n",
            "1073/1073 [==============================] - 8s 7ms/step - loss: 0.1665 - acc: 0.9413 - val_loss: 1.6473 - val_acc: 0.8246\n",
            "— val_f1: 0.375\n",
            "Epoch 22/50\n",
            "1073/1073 [==============================] - 8s 7ms/step - loss: 0.1631 - acc: 0.9534 - val_loss: 1.3941 - val_acc: 0.8070\n",
            "— val_f1: 0.35294117647058826\n",
            "Epoch 23/50\n",
            "1073/1073 [==============================] - 8s 7ms/step - loss: 0.1632 - acc: 0.9497 - val_loss: 1.5020 - val_acc: 0.8070\n",
            "— val_f1: 0.35294117647058826\n",
            "Epoch 24/50\n",
            "1073/1073 [==============================] - 8s 7ms/step - loss: 0.1134 - acc: 0.9674 - val_loss: 1.5983 - val_acc: 0.8421\n",
            "— val_f1: 0.4\n",
            "Epoch 25/50\n",
            "1073/1073 [==============================] - 8s 7ms/step - loss: 0.1031 - acc: 0.9664 - val_loss: 1.6479 - val_acc: 0.8246\n",
            "— val_f1: 0.2857142857142857\n",
            "Epoch 26/50\n",
            "1073/1073 [==============================] - 8s 7ms/step - loss: 0.1131 - acc: 0.9674 - val_loss: 1.3975 - val_acc: 0.7544\n",
            "— val_f1: 0.4166666666666667\n",
            "Epoch 27/50\n",
            "1073/1073 [==============================] - 8s 7ms/step - loss: 0.1280 - acc: 0.9627 - val_loss: 1.7374 - val_acc: 0.7895\n",
            "— val_f1: 0.3333333333333333\n",
            "Epoch 28/50\n",
            "1073/1073 [==============================] - 8s 7ms/step - loss: 0.1357 - acc: 0.9590 - val_loss: 1.6440 - val_acc: 0.8070\n",
            "— val_f1: 0.35294117647058826\n",
            "Epoch 29/50\n",
            "1073/1073 [==============================] - 8s 7ms/step - loss: 0.1636 - acc: 0.9543 - val_loss: 1.4696 - val_acc: 0.7719\n",
            "— val_f1: 0.380952380952381\n",
            "Epoch 30/50\n",
            "1073/1073 [==============================] - 8s 7ms/step - loss: 0.1437 - acc: 0.9515 - val_loss: 1.4122 - val_acc: 0.7719\n",
            "— val_f1: 0.43478260869565216\n",
            "Epoch 31/50\n",
            "1073/1073 [==============================] - 8s 7ms/step - loss: 0.1191 - acc: 0.9618 - val_loss: 1.5122 - val_acc: 0.8246\n",
            "— val_f1: 0.2857142857142857\n",
            "Epoch 32/50\n",
            "1073/1073 [==============================] - 8s 7ms/step - loss: 0.1307 - acc: 0.9599 - val_loss: 1.5678 - val_acc: 0.8246\n",
            "— val_f1: 0.4444444444444444\n",
            "Epoch 33/50\n",
            "1073/1073 [==============================] - 8s 7ms/step - loss: 0.1296 - acc: 0.9646 - val_loss: 1.5743 - val_acc: 0.7895\n",
            "— val_f1: 0.25\n",
            "Epoch 34/50\n",
            "1073/1073 [==============================] - 8s 7ms/step - loss: 0.1114 - acc: 0.9683 - val_loss: 1.7599 - val_acc: 0.7895\n",
            "— val_f1: 0.3333333333333333\n",
            "Epoch 35/50\n",
            "1073/1073 [==============================] - 8s 7ms/step - loss: 0.1127 - acc: 0.9627 - val_loss: 1.4273 - val_acc: 0.8070\n",
            "— val_f1: 0.5217391304347826\n",
            "Epoch 36/50\n",
            "1073/1073 [==============================] - 8s 7ms/step - loss: 0.1499 - acc: 0.9469 - val_loss: 1.4679 - val_acc: 0.7719\n",
            "— val_f1: 0.380952380952381\n",
            "Epoch 37/50\n",
            "1073/1073 [==============================] - 8s 7ms/step - loss: 0.1299 - acc: 0.9534 - val_loss: 1.8832 - val_acc: 0.8246\n",
            "— val_f1: 0.2857142857142857\n",
            "Epoch 38/50\n",
            "1073/1073 [==============================] - 8s 7ms/step - loss: 0.1125 - acc: 0.9692 - val_loss: 1.5486 - val_acc: 0.7368\n",
            "— val_f1: 0.2105263157894737\n",
            "Epoch 39/50\n",
            "1073/1073 [==============================] - 8s 7ms/step - loss: 0.1932 - acc: 0.9422 - val_loss: 1.4021 - val_acc: 0.7368\n",
            "— val_f1: 0.4444444444444444\n",
            "Epoch 40/50\n",
            "1073/1073 [==============================] - 8s 7ms/step - loss: 0.1757 - acc: 0.9310 - val_loss: 1.3978 - val_acc: 0.8246\n",
            "— val_f1: 0.4444444444444444\n",
            "Epoch 41/50\n",
            "1073/1073 [==============================] - 8s 7ms/step - loss: 0.1784 - acc: 0.9376 - val_loss: 1.1021 - val_acc: 0.8596\n",
            "— val_f1: 0.6\n",
            "Epoch 42/50\n",
            "1073/1073 [==============================] - 8s 7ms/step - loss: 0.1711 - acc: 0.9366 - val_loss: 1.4107 - val_acc: 0.8070\n",
            "— val_f1: 0.26666666666666666\n",
            "Epoch 43/50\n",
            "1073/1073 [==============================] - 8s 7ms/step - loss: 0.1255 - acc: 0.9571 - val_loss: 1.5350 - val_acc: 0.7895\n",
            "— val_f1: 0.39999999999999997\n",
            "Epoch 44/50\n",
            "1073/1073 [==============================] - 8s 7ms/step - loss: 0.1142 - acc: 0.9646 - val_loss: 1.5253 - val_acc: 0.8246\n",
            "— val_f1: 0.375\n",
            "Epoch 45/50\n",
            "1073/1073 [==============================] - 8s 7ms/step - loss: 0.1264 - acc: 0.9581 - val_loss: 1.6174 - val_acc: 0.8421\n",
            "— val_f1: 0.30769230769230765\n",
            "Epoch 46/50\n",
            "1073/1073 [==============================] - 8s 7ms/step - loss: 0.0874 - acc: 0.9720 - val_loss: 1.5764 - val_acc: 0.8421\n",
            "— val_f1: 0.47058823529411764\n",
            "Epoch 47/50\n",
            "1073/1073 [==============================] - 8s 7ms/step - loss: 0.0940 - acc: 0.9692 - val_loss: 1.4894 - val_acc: 0.7368\n",
            "— val_f1: 0.34782608695652173\n",
            "Epoch 48/50\n",
            "1073/1073 [==============================] - 8s 7ms/step - loss: 0.1041 - acc: 0.9618 - val_loss: 1.6346 - val_acc: 0.8421\n",
            "— val_f1: 0.4\n",
            "Epoch 49/50\n",
            "1073/1073 [==============================] - 8s 7ms/step - loss: 0.0986 - acc: 0.9692 - val_loss: 2.0894 - val_acc: 0.8596\n",
            "— val_f1: 0.42857142857142855\n",
            "Epoch 50/50\n",
            "1073/1073 [==============================] - 8s 7ms/step - loss: 0.1162 - acc: 0.9646 - val_loss: 2.0267 - val_acc: 0.8421\n",
            "— val_f1: 0.30769230769230765\n"
          ],
          "name": "stdout"
        }
      ]
    },
    {
      "cell_type": "markdown",
      "metadata": {
        "colab_type": "text",
        "id": "fF1Y00tf8L7b"
      },
      "source": [
        "save the model"
      ]
    },
    {
      "cell_type": "code",
      "metadata": {
        "colab_type": "code",
        "id": "5NJztYNK8L7b",
        "colab": {}
      },
      "source": [
        "acl_coronal_model.save_weights('acl_coronal_weights.h5') #load best weights"
      ],
      "execution_count": 0,
      "outputs": []
    },
    {
      "cell_type": "markdown",
      "metadata": {
        "colab_type": "text",
        "id": "5Czwlrti8L7d"
      },
      "source": [
        "get accuracy and f score"
      ]
    },
    {
      "cell_type": "code",
      "metadata": {
        "colab_type": "code",
        "id": "uUfRHvPf8L7d",
        "colab": {}
      },
      "source": [
        "coronal_acl_train_acc = history5.history['acc']\n",
        "coronal_acl_train_loss = history5.history['loss']\n",
        "coronal_acl_train_fscore = metrics_acl_cor.get_data()"
      ],
      "execution_count": 0,
      "outputs": []
    },
    {
      "cell_type": "markdown",
      "metadata": {
        "colab_type": "text",
        "id": "xK9xwTEo8L7f"
      },
      "source": [
        "plot metrics"
      ]
    },
    {
      "cell_type": "markdown",
      "metadata": {
        "colab_type": "text",
        "id": "gUo-7ifC8L7f"
      },
      "source": [
        "Accuracy"
      ]
    },
    {
      "cell_type": "code",
      "metadata": {
        "colab_type": "code",
        "outputId": "a64df6d0-cade-4ca7-e851-5074f8ba5120",
        "id": "tnBtaKR88L7g",
        "colab": {
          "base_uri": "https://localhost:8080/",
          "height": 281
        }
      },
      "source": [
        "plt.plot(coronal_acl_train_acc)\n",
        "plt.title('training curve')\n",
        "plt.show()"
      ],
      "execution_count": 0,
      "outputs": [
        {
          "output_type": "display_data",
          "data": {
            "image/png": "[encoded data removed]",
            "text/plain": [
              "<Figure size 432x288 with 1 Axes>"
            ]
          },
          "metadata": {
            "tags": []
          }
        }
      ]
    },
    {
      "cell_type": "markdown",
      "metadata": {
        "colab_type": "text",
        "id": "MZNUaI7Z8L7j"
      },
      "source": [
        "loss"
      ]
    },
    {
      "cell_type": "code",
      "metadata": {
        "colab_type": "code",
        "outputId": "46b3d9b1-08fa-45be-dca4-7a41492b73bf",
        "id": "4nkXdO2A8L7j",
        "colab": {
          "base_uri": "https://localhost:8080/",
          "height": 297
        }
      },
      "source": [
        "plt.plot(coronal_acl_train_loss)\n",
        "plt.title('training curve')"
      ],
      "execution_count": 0,
      "outputs": [
        {
          "output_type": "execute_result",
          "data": {
            "text/plain": [
              "Text(0.5, 1.0, 'training curve')"
            ]
          },
          "metadata": {
            "tags": []
          },
          "execution_count": 27
        },
        {
          "output_type": "display_data",
          "data": {
            "image/png": "[encoded data removed]",
            "text/plain": [
              "<Figure size 432x288 with 1 Axes>"
            ]
          },
          "metadata": {
            "tags": []
          }
        }
      ]
    },
    {
      "cell_type": "code",
      "metadata": {
        "colab_type": "code",
        "outputId": "23151e57-c583-4567-e6ab-7ea0313ed7ac",
        "id": "STyjC0Qg8L7n",
        "colab": {
          "base_uri": "https://localhost:8080/",
          "height": 286
        }
      },
      "source": [
        "plt.plot(coronal_acl_train_fscore)"
      ],
      "execution_count": 0,
      "outputs": [
        {
          "output_type": "execute_result",
          "data": {
            "text/plain": [
              "[<matplotlib.lines.Line2D at 0x7faedc3cf438>]"
            ]
          },
          "metadata": {
            "tags": []
          },
          "execution_count": 28
        },
        {
          "output_type": "display_data",
          "data": {
            "image/png": "[encoded data removed]",
            "text/plain": [
              "<Figure size 432x288 with 1 Axes>"
            ]
          },
          "metadata": {
            "tags": []
          }
        }
      ]
    },
    {
      "cell_type": "markdown",
      "metadata": {
        "colab_type": "text",
        "id": "iInuYNRA8L7r"
      },
      "source": [
        "load the validation acl labels"
      ]
    },
    {
      "cell_type": "code",
      "metadata": {
        "colab_type": "code",
        "id": "OybcTvYm8L7s",
        "colab": {}
      },
      "source": [
        "valid_acl_labels = pd.read_csv(main_dir+'/' + \"valid-acl.csv\", header=None)[1].values"
      ],
      "execution_count": 0,
      "outputs": []
    },
    {
      "cell_type": "markdown",
      "metadata": {
        "colab_type": "text",
        "id": "t3PgpEc68L7v"
      },
      "source": [
        "load the validation coronal data"
      ]
    },
    {
      "cell_type": "code",
      "metadata": {
        "colab_type": "code",
        "id": "1AnmdIc68L7v",
        "colab": {}
      },
      "source": [
        "valid_coronal = scan_series_Array(main_dir,\"valid\", \"coronal\", 120, 0)"
      ],
      "execution_count": 0,
      "outputs": []
    },
    {
      "cell_type": "code",
      "metadata": {
        "colab_type": "code",
        "outputId": "6302f289-2e32-4af8-e936-b31d089daeda",
        "id": "ArQALljz8L7x",
        "colab": {
          "base_uri": "https://localhost:8080/",
          "height": 68
        }
      },
      "source": [
        "acl_cor_score=acl_coronal_model.evaluate(valid_coronal,valid_acl_labels)\n",
        "print (acl_cor_score)\n",
        "print(acl_coronal_model.metrics_names)"
      ],
      "execution_count": 0,
      "outputs": [
        {
          "output_type": "stream",
          "text": [
            "120/120 [==============================] - 8s 65ms/step\n",
            "[0.950196361541748, 0.7166666706403096]\n",
            "['loss', 'acc']\n"
          ],
          "name": "stdout"
        }
      ]
    },
    {
      "cell_type": "markdown",
      "metadata": {
        "colab_type": "text",
        "id": "LIO4zXGB8L71"
      },
      "source": [
        "save acl coronal model predictions"
      ]
    },
    {
      "cell_type": "code",
      "metadata": {
        "colab_type": "code",
        "id": "jg3KrIbb8L72",
        "colab": {}
      },
      "source": [
        "acl_coronal_model.load_weights('acl_coronal_weights.h5')"
      ],
      "execution_count": 0,
      "outputs": []
    },
    {
      "cell_type": "code",
      "metadata": {
        "colab_type": "code",
        "id": "u6YQjzNY8L74",
        "colab": {}
      },
      "source": [
        "coronal_acl_prediction=acl_coronal_model.predict(valid_coronal)\n",
        "np.save('coronal_acl_prediction',coronal_acl_prediction)"
      ],
      "execution_count": 0,
      "outputs": []
    },
    {
      "cell_type": "markdown",
      "metadata": {
        "colab_type": "text",
        "id": "K7ylSGx-olJf"
      },
      "source": [
        "# **acl sagittal**\n",
        "\n"
      ]
    },
    {
      "cell_type": "markdown",
      "metadata": {
        "colab_type": "text",
        "id": "AYYCCaq_olJ2"
      },
      "source": [
        "create the model"
      ]
    },
    {
      "cell_type": "code",
      "metadata": {
        "colab_type": "code",
        "id": "pK8UTbfJolJ3",
        "colab": {}
      },
      "source": [
        "acl_sagittal_model=Model(inputs=base_model.input,outputs=preds)"
      ],
      "execution_count": 0,
      "outputs": []
    },
    {
      "cell_type": "code",
      "metadata": {
        "colab_type": "code",
        "id": "O9JY6UhtolJ-",
        "colab": {}
      },
      "source": [
        "#compile\n",
        "acl_sagittal_model.compile(optimizer='Adam',loss='binary_crossentropy',metrics=['accuracy'])"
      ],
      "execution_count": 0,
      "outputs": []
    },
    {
      "cell_type": "code",
      "metadata": {
        "colab_type": "code",
        "outputId": "1e6fb355-563c-4ada-80bf-dec2461011f6",
        "id": "2vm6TMkvolKB",
        "colab": {
          "base_uri": "https://localhost:8080/",
          "height": 34
        }
      },
      "source": [
        "import gc\n",
        "gc.collect()"
      ],
      "execution_count": 0,
      "outputs": [
        {
          "output_type": "execute_result",
          "data": {
            "text/plain": [
              "139"
            ]
          },
          "metadata": {
            "tags": []
          },
          "execution_count": 120
        }
      ]
    },
    {
      "cell_type": "markdown",
      "metadata": {
        "colab_type": "text",
        "id": "XLhOY276olKG"
      },
      "source": [
        " create an instance of the cass metrics to pass it as an argument for the model"
      ]
    },
    {
      "cell_type": "code",
      "metadata": {
        "colab_type": "code",
        "id": "r6H88WbgolKH",
        "colab": {}
      },
      "source": [
        "metrics_acl_sag = Metrics()"
      ],
      "execution_count": 0,
      "outputs": []
    },
    {
      "cell_type": "code",
      "metadata": {
        "colab_type": "code",
        "outputId": "d8280894-1e64-4278-e6d8-990b0b4bcc9d",
        "id": "vn4NF8sSolKI",
        "colab": {
          "base_uri": "https://localhost:8080/",
          "height": 598
        }
      },
      "source": [
        "history9=acl_sagittal_model.fit(train_sagittal, train_acl_labels, epochs = 10,\n",
        "                  shuffle=True, verbose = 1, validation_split=0.02,callbacks=[metrics_acl_sag])"
      ],
      "execution_count": 0,
      "outputs": [
        {
          "output_type": "stream",
          "text": [
            "Train on 1107 samples, validate on 23 samples\n",
            "Epoch 1/10\n",
            "1107/1107 [==============================] - 8s 7ms/step - loss: 0.5572 - acc: 0.7841 - val_loss: 0.2978 - val_acc: 0.8696\n"
          ],
          "name": "stdout"
        },
        {
          "output_type": "stream",
          "text": [
            "/usr/local/lib/python3.6/dist-packages/sklearn/metrics/classification.py:1437: UndefinedMetricWarning: F-score is ill-defined and being set to 0.0 due to no predicted samples.\n",
            "  'precision', 'predicted', average, warn_for)\n"
          ],
          "name": "stderr"
        },
        {
          "output_type": "stream",
          "text": [
            "— val_f1: 0.0\n",
            "Epoch 2/10\n",
            "1107/1107 [==============================] - 7s 7ms/step - loss: 0.4168 - acc: 0.8166 - val_loss: 0.2766 - val_acc: 0.8696\n",
            "— val_f1: 0.0\n",
            "Epoch 3/10\n",
            "1107/1107 [==============================] - 8s 7ms/step - loss: 0.3543 - acc: 0.8446 - val_loss: 0.2988 - val_acc: 0.8696\n",
            "— val_f1: 0.0\n",
            "Epoch 4/10\n",
            "1107/1107 [==============================] - 8s 7ms/step - loss: 0.3339 - acc: 0.8546 - val_loss: 0.3148 - val_acc: 0.8696\n",
            "— val_f1: 0.0\n",
            "Epoch 5/10\n",
            "1107/1107 [==============================] - 8s 7ms/step - loss: 0.3248 - acc: 0.8573 - val_loss: 0.3245 - val_acc: 0.8261\n",
            "— val_f1: 0.0\n",
            "Epoch 6/10\n",
            "1107/1107 [==============================] - 7s 7ms/step - loss: 0.2907 - acc: 0.8790 - val_loss: 0.2899 - val_acc: 0.9130\n",
            "— val_f1: 0.5\n",
            "Epoch 7/10\n",
            "1107/1107 [==============================] - 7s 7ms/step - loss: 0.2797 - acc: 0.8753 - val_loss: 0.2882 - val_acc: 0.8696\n",
            "— val_f1: 0.0\n",
            "Epoch 8/10\n",
            "1107/1107 [==============================] - 7s 7ms/step - loss: 0.2514 - acc: 0.8988 - val_loss: 0.3019 - val_acc: 0.8696\n",
            "— val_f1: 0.0\n",
            "Epoch 9/10\n",
            "1107/1107 [==============================] - 7s 7ms/step - loss: 0.2412 - acc: 0.9088 - val_loss: 0.3227 - val_acc: 0.8261\n",
            "— val_f1: 0.3333333333333333\n",
            "Epoch 10/10\n",
            "1107/1107 [==============================] - 7s 7ms/step - loss: 0.2316 - acc: 0.9051 - val_loss: 0.3876 - val_acc: 0.8261\n",
            "— val_f1: 0.5\n"
          ],
          "name": "stdout"
        }
      ]
    },
    {
      "cell_type": "markdown",
      "metadata": {
        "colab_type": "text",
        "id": "tqnADNXJolKL"
      },
      "source": [
        "save the model"
      ]
    },
    {
      "cell_type": "code",
      "metadata": {
        "colab_type": "code",
        "id": "c5uKszniolKL",
        "colab": {}
      },
      "source": [
        "acl_sagittal_model.save_weights('acl_sagittal_weights.h5') #load best weights"
      ],
      "execution_count": 0,
      "outputs": []
    },
    {
      "cell_type": "markdown",
      "metadata": {
        "colab_type": "text",
        "id": "o9mhRrqiolKO"
      },
      "source": [
        "get accuracy and f score"
      ]
    },
    {
      "cell_type": "code",
      "metadata": {
        "colab_type": "code",
        "id": "Cc8dJweColKQ",
        "colab": {}
      },
      "source": [
        "sagittal_acl_train_acc = history9.history['acc']\n",
        "sagittal_acl_train_loss = history9.history['loss']\n",
        "sagittal_acl_train_fscore = metrics_acl_sag.get_data()"
      ],
      "execution_count": 0,
      "outputs": []
    },
    {
      "cell_type": "markdown",
      "metadata": {
        "colab_type": "text",
        "id": "btFTyhl7olKT"
      },
      "source": [
        "plot metrics"
      ]
    },
    {
      "cell_type": "markdown",
      "metadata": {
        "colab_type": "text",
        "id": "a7eNiOS1olKU"
      },
      "source": [
        "Accuracy"
      ]
    },
    {
      "cell_type": "code",
      "metadata": {
        "colab_type": "code",
        "outputId": "c53cfa7d-4cb9-48c7-c19d-32b91e7b3c23",
        "id": "iAnYz_w8olKW",
        "colab": {
          "base_uri": "https://localhost:8080/",
          "height": 281
        }
      },
      "source": [
        "plt.plot(sagittal_acl_train_acc)\n",
        "plt.title('accuracy')\n",
        "plt.show()"
      ],
      "execution_count": 0,
      "outputs": [
        {
          "output_type": "display_data",
          "data": {
            "image/png": "[encoded data removed]",
            "text/plain": [
              "<Figure size 432x288 with 1 Axes>"
            ]
          },
          "metadata": {
            "tags": []
          }
        }
      ]
    },
    {
      "cell_type": "markdown",
      "metadata": {
        "colab_type": "text",
        "id": "1JGeMNQ8olKa"
      },
      "source": [
        "loss"
      ]
    },
    {
      "cell_type": "code",
      "metadata": {
        "colab_type": "code",
        "outputId": "43b69264-7e34-4bea-cb25-b81dda730d82",
        "id": "HO7gbve6olKa",
        "colab": {
          "base_uri": "https://localhost:8080/",
          "height": 297
        }
      },
      "source": [
        "plt.plot(sagittal_acl_train_loss)\n",
        "plt.title('loss')"
      ],
      "execution_count": 0,
      "outputs": [
        {
          "output_type": "execute_result",
          "data": {
            "text/plain": [
              "Text(0.5, 1.0, 'loss')"
            ]
          },
          "metadata": {
            "tags": []
          },
          "execution_count": 25
        },
        {
          "output_type": "display_data",
          "data": {
            "image/png": "[encoded data removed]",
            "text/plain": [
              "<Figure size 432x288 with 1 Axes>"
            ]
          },
          "metadata": {
            "tags": []
          }
        }
      ]
    },
    {
      "cell_type": "code",
      "metadata": {
        "colab_type": "code",
        "outputId": "5eba5f9c-7a2d-489a-8927-9b6de7b75052",
        "id": "5fjora_volKd",
        "colab": {
          "base_uri": "https://localhost:8080/",
          "height": 297
        }
      },
      "source": [
        "plt.plot(sagittal_acl_train_fscore)\n",
        "plt.title('fscore')"
      ],
      "execution_count": 0,
      "outputs": [
        {
          "output_type": "execute_result",
          "data": {
            "text/plain": [
              "Text(0.5, 1.0, 'fscore')"
            ]
          },
          "metadata": {
            "tags": []
          },
          "execution_count": 26
        },
        {
          "output_type": "display_data",
          "data": {
            "image/png": "[encoded data removed]",
            "text/plain": [
              "<Figure size 432x288 with 1 Axes>"
            ]
          },
          "metadata": {
            "tags": []
          }
        }
      ]
    },
    {
      "cell_type": "markdown",
      "metadata": {
        "colab_type": "text",
        "id": "nKaM3MluolKf"
      },
      "source": [
        "load the validation abnormal labels"
      ]
    },
    {
      "cell_type": "code",
      "metadata": {
        "colab_type": "code",
        "id": "JghgoX9HolKg",
        "colab": {}
      },
      "source": [
        "valid_acl_labels = pd.read_csv(main_dir+'/' + \"valid-acl.csv\", header=None)[1].values"
      ],
      "execution_count": 0,
      "outputs": []
    },
    {
      "cell_type": "markdown",
      "metadata": {
        "colab_type": "text",
        "id": "2-NeDEmSolKh"
      },
      "source": [
        "load the validation axial data"
      ]
    },
    {
      "cell_type": "code",
      "metadata": {
        "colab_type": "code",
        "id": "JQxtIBAkolKh",
        "colab": {}
      },
      "source": [
        "valid_sagittal = scan_series_Array(main_dir,\"valid\", \"sagittal\", 120, 0)"
      ],
      "execution_count": 0,
      "outputs": []
    },
    {
      "cell_type": "code",
      "metadata": {
        "colab_type": "code",
        "outputId": "7743092a-ef17-4060-d353-85e12cf72e53",
        "id": "t-NW2LV0olKi",
        "colab": {
          "base_uri": "https://localhost:8080/",
          "height": 70
        }
      },
      "source": [
        "acl_sagittal_score=acl_sagittal_model.evaluate(valid_sagittal,valid_acl_labels)\n",
        "print (acl_sagittal_score)\n",
        "print(acl_sagittal_model.metrics_names)"
      ],
      "execution_count": 0,
      "outputs": [
        {
          "output_type": "stream",
          "text": [
            "120/120 [==============================] - 2s 14ms/step\n",
            "[1.2267017563184102, 0.6833333373069763]\n",
            "['loss', 'acc']\n"
          ],
          "name": "stdout"
        }
      ]
    },
    {
      "cell_type": "markdown",
      "metadata": {
        "colab_type": "text",
        "id": "IbB9h93TolKk"
      },
      "source": [
        "load weights directly"
      ]
    },
    {
      "cell_type": "code",
      "metadata": {
        "colab_type": "code",
        "id": "Ss7FLL_kolKl",
        "colab": {}
      },
      "source": [
        "acl_sagittal_model.load_weights('acl_sagittal_weights.h5')"
      ],
      "execution_count": 0,
      "outputs": []
    },
    {
      "cell_type": "markdown",
      "metadata": {
        "colab_type": "text",
        "id": "WWPvEgz1olKm"
      },
      "source": [
        "save abnormal axial model predictions"
      ]
    },
    {
      "cell_type": "code",
      "metadata": {
        "colab_type": "code",
        "id": "Q4EgAENQolKm",
        "colab": {}
      },
      "source": [
        "sagittal_acl_prediction=acl_sagittal_model.predict(valid_sagittal)\n",
        "np.save('sagittal_acl_prediction',sagittal_acl_prediction)"
      ],
      "execution_count": 0,
      "outputs": []
    },
    {
      "cell_type": "markdown",
      "metadata": {
        "id": "ncGDHzaDnCTv",
        "colab_type": "text"
      },
      "source": [
        "# **meniscus axial**"
      ]
    },
    {
      "cell_type": "markdown",
      "metadata": {
        "id": "X406uevAnNQw",
        "colab_type": "text"
      },
      "source": [
        "load meniscus train labels"
      ]
    },
    {
      "cell_type": "code",
      "metadata": {
        "id": "GBd7hoAtnQyg",
        "colab_type": "code",
        "colab": {}
      },
      "source": [
        "train_meniscus_labels = pd.read_csv(main_dir+'/' + \"train-meniscus.csv\", header=None)[1].values"
      ],
      "execution_count": 0,
      "outputs": []
    },
    {
      "cell_type": "markdown",
      "metadata": {
        "id": "Bb3L81pKq6G8",
        "colab_type": "text"
      },
      "source": [
        "create an instance of the cass metrics to pass it as an argument for the model"
      ]
    },
    {
      "cell_type": "code",
      "metadata": {
        "id": "QOywyIq2q2VW",
        "colab_type": "code",
        "colab": {}
      },
      "source": [
        "metrics_meniscus_ax = Metrics()"
      ],
      "execution_count": 0,
      "outputs": []
    },
    {
      "cell_type": "markdown",
      "metadata": {
        "id": "OdPpzyLPtOq5",
        "colab_type": "text"
      },
      "source": [
        "create the meniscus axial model"
      ]
    },
    {
      "cell_type": "code",
      "metadata": {
        "id": "Vz814lGLtMjq",
        "colab_type": "code",
        "colab": {}
      },
      "source": [
        "meniscus_axial_model=Model(inputs=base_model.input,outputs=preds)"
      ],
      "execution_count": 0,
      "outputs": []
    },
    {
      "cell_type": "code",
      "metadata": {
        "id": "Yy4BIimvteU5",
        "colab_type": "code",
        "colab": {}
      },
      "source": [
        "#compile\n",
        "meniscus_axial_model.compile(optimizer='Adam',loss='binary_crossentropy',metrics=['accuracy'])"
      ],
      "execution_count": 0,
      "outputs": []
    },
    {
      "cell_type": "code",
      "metadata": {
        "id": "WmhFC9dqtlLo",
        "colab_type": "code",
        "outputId": "98d486e0-c191-49bc-a9f0-282c34ae5532",
        "colab": {
          "base_uri": "https://localhost:8080/",
          "height": 34
        }
      },
      "source": [
        "import gc\n",
        "gc.collect()"
      ],
      "execution_count": 0,
      "outputs": [
        {
          "output_type": "execute_result",
          "data": {
            "text/plain": [
              "2562"
            ]
          },
          "metadata": {
            "tags": []
          },
          "execution_count": 114
        }
      ]
    },
    {
      "cell_type": "code",
      "metadata": {
        "id": "iH93I3JqtqRL",
        "colab_type": "code",
        "outputId": "3cf85376-2511-4216-fb1c-5804cf3afe65",
        "colab": {
          "base_uri": "https://localhost:8080/",
          "height": 819
        }
      },
      "source": [
        "history3=meniscus_axial_model.fit(train_axial, train_meniscus_labels, epochs =15,\n",
        "                  shuffle=True, verbose = 1,validation_split=0.05,callbacks=[metrics_meniscus_ax])"
      ],
      "execution_count": 0,
      "outputs": [
        {
          "output_type": "stream",
          "text": [
            "Train on 1073 samples, validate on 57 samples\n",
            "Epoch 1/15\n",
            "1073/1073 [==============================] - 8s 7ms/step - loss: 0.9827 - acc: 0.6934 - val_loss: 1.0724 - val_acc: 0.6491\n",
            "— val_f1: 0.6428571428571428\n",
            "Epoch 2/15\n",
            "1073/1073 [==============================] - 8s 7ms/step - loss: 0.5822 - acc: 0.7521 - val_loss: 0.6341 - val_acc: 0.7018\n",
            "— val_f1: 0.6382978723404256\n",
            "Epoch 3/15\n",
            "1073/1073 [==============================] - 8s 7ms/step - loss: 0.4382 - acc: 0.7959 - val_loss: 0.6102 - val_acc: 0.7018\n",
            "— val_f1: 0.5853658536585366\n",
            "Epoch 4/15\n",
            "1073/1073 [==============================] - 8s 7ms/step - loss: 0.3558 - acc: 0.8406 - val_loss: 0.6089 - val_acc: 0.6842\n",
            "— val_f1: 0.5909090909090909\n",
            "Epoch 5/15\n",
            "1073/1073 [==============================] - 7s 7ms/step - loss: 0.3677 - acc: 0.8378 - val_loss: 0.8371 - val_acc: 0.6842\n",
            "— val_f1: 0.6666666666666666\n",
            "Epoch 6/15\n",
            "1073/1073 [==============================] - 7s 7ms/step - loss: 0.3530 - acc: 0.8425 - val_loss: 0.6145 - val_acc: 0.7368\n",
            "— val_f1: 0.6808510638297872\n",
            "Epoch 7/15\n",
            "1073/1073 [==============================] - 7s 7ms/step - loss: 0.2602 - acc: 0.8938 - val_loss: 0.6013 - val_acc: 0.7193\n",
            "— val_f1: 0.6\n",
            "Epoch 8/15\n",
            "1073/1073 [==============================] - 7s 7ms/step - loss: 0.2466 - acc: 0.9096 - val_loss: 0.6397 - val_acc: 0.7193\n",
            "— val_f1: 0.6521739130434783\n",
            "Epoch 9/15\n",
            "1073/1073 [==============================] - 7s 7ms/step - loss: 0.2371 - acc: 0.9040 - val_loss: 0.6980 - val_acc: 0.6842\n",
            "— val_f1: 0.6538461538461539\n",
            "Epoch 10/15\n",
            "1073/1073 [==============================] - 7s 7ms/step - loss: 0.2133 - acc: 0.9264 - val_loss: 0.6062 - val_acc: 0.7018\n",
            "— val_f1: 0.5641025641025642\n",
            "Epoch 11/15\n",
            "1073/1073 [==============================] - 7s 7ms/step - loss: 0.1712 - acc: 0.9525 - val_loss: 0.6452 - val_acc: 0.6842\n",
            "— val_f1: 0.5000000000000001\n",
            "Epoch 12/15\n",
            "1073/1073 [==============================] - 7s 7ms/step - loss: 0.1519 - acc: 0.9637 - val_loss: 0.6706 - val_acc: 0.6842\n",
            "— val_f1: 0.55\n",
            "Epoch 13/15\n",
            "1073/1073 [==============================] - 7s 7ms/step - loss: 0.1322 - acc: 0.9664 - val_loss: 0.7247 - val_acc: 0.7193\n",
            "— val_f1: 0.5789473684210527\n",
            "Epoch 14/15\n",
            "1073/1073 [==============================] - 7s 7ms/step - loss: 0.1240 - acc: 0.9720 - val_loss: 0.6361 - val_acc: 0.6667\n",
            "— val_f1: 0.5581395348837208\n",
            "Epoch 15/15\n",
            "1073/1073 [==============================] - 7s 7ms/step - loss: 0.1218 - acc: 0.9767 - val_loss: 0.7601 - val_acc: 0.6842\n",
            "— val_f1: 0.5263157894736842\n"
          ],
          "name": "stdout"
        }
      ]
    },
    {
      "cell_type": "markdown",
      "metadata": {
        "id": "WORP1PYav-1k",
        "colab_type": "text"
      },
      "source": [
        "save the model"
      ]
    },
    {
      "cell_type": "code",
      "metadata": {
        "id": "1ZPeLxJev_8P",
        "colab_type": "code",
        "colab": {}
      },
      "source": [
        "meniscus_axial_model.save_weights('meniscus_axial_weights.h5') #load best weights"
      ],
      "execution_count": 0,
      "outputs": []
    },
    {
      "cell_type": "code",
      "metadata": {
        "id": "Jwsezj4AwEE7",
        "colab_type": "code",
        "colab": {}
      },
      "source": [
        "axial_meniscus_train_acc = history3.history['acc']\n",
        "axial_meniscus_train_loss = history3.history['loss']\n",
        "axial_meniscus_train_fscore = metrics_meniscus_ax.get_data()"
      ],
      "execution_count": 0,
      "outputs": []
    },
    {
      "cell_type": "code",
      "metadata": {
        "id": "FEQ_pDqhwaeg",
        "colab_type": "code",
        "outputId": "36b8d633-5baf-4b91-ebf4-b1a46a561737",
        "colab": {
          "base_uri": "https://localhost:8080/",
          "height": 281
        }
      },
      "source": [
        "plt.plot(axial_acl_train_acc)\n",
        "plt.title('training curve')\n",
        "plt.show()"
      ],
      "execution_count": 0,
      "outputs": [
        {
          "output_type": "display_data",
          "data": {
            "image/png": "[encoded data removed]",
            "text/plain": [
              "<Figure size 432x288 with 1 Axes>"
            ]
          },
          "metadata": {
            "tags": []
          }
        }
      ]
    },
    {
      "cell_type": "markdown",
      "metadata": {
        "id": "m31iTZq5xiX2",
        "colab_type": "text"
      },
      "source": [
        "loss"
      ]
    },
    {
      "cell_type": "code",
      "metadata": {
        "id": "NtSwVfLRxXFA",
        "colab_type": "code",
        "outputId": "628159f0-3d67-4fbf-c9b3-a752b85fba37",
        "colab": {
          "base_uri": "https://localhost:8080/",
          "height": 297
        }
      },
      "source": [
        "plt.plot(axial_meniscus_train_loss)\n",
        "plt.title('training curve')"
      ],
      "execution_count": 0,
      "outputs": [
        {
          "output_type": "execute_result",
          "data": {
            "text/plain": [
              "Text(0.5, 1.0, 'training curve')"
            ]
          },
          "metadata": {
            "tags": []
          },
          "execution_count": 61
        },
        {
          "output_type": "display_data",
          "data": {
            "image/png": "[encoded data removed]",
            "text/plain": [
              "<Figure size 432x288 with 1 Axes>"
            ]
          },
          "metadata": {
            "tags": []
          }
        }
      ]
    },
    {
      "cell_type": "markdown",
      "metadata": {
        "id": "Keo-my3Lx22S",
        "colab_type": "text"
      },
      "source": [
        "fscore"
      ]
    },
    {
      "cell_type": "code",
      "metadata": {
        "id": "3bYwcmohx39X",
        "colab_type": "code",
        "outputId": "8f44fdc5-c767-49e0-f2b9-f0a4c2e6cdfe",
        "colab": {
          "base_uri": "https://localhost:8080/",
          "height": 286
        }
      },
      "source": [
        "plt.plot(axial_acl_train_fscore)"
      ],
      "execution_count": 0,
      "outputs": [
        {
          "output_type": "execute_result",
          "data": {
            "text/plain": [
              "[<matplotlib.lines.Line2D at 0x7f250e0c5198>]"
            ]
          },
          "metadata": {
            "tags": []
          },
          "execution_count": 62
        },
        {
          "output_type": "display_data",
          "data": {
            "image/png": "[encoded data removed]",
            "text/plain": [
              "<Figure size 432x288 with 1 Axes>"
            ]
          },
          "metadata": {
            "tags": []
          }
        }
      ]
    },
    {
      "cell_type": "markdown",
      "metadata": {
        "id": "1jzCBqrpwr6S",
        "colab_type": "text"
      },
      "source": [
        "load the validation meniscus labels"
      ]
    },
    {
      "cell_type": "code",
      "metadata": {
        "id": "DML65YmLwvkR",
        "colab_type": "code",
        "colab": {}
      },
      "source": [
        "valid_meniscus_labels = pd.read_csv(main_dir+'/' + \"valid-meniscus.csv\", header=None)[1].values"
      ],
      "execution_count": 0,
      "outputs": []
    },
    {
      "cell_type": "markdown",
      "metadata": {
        "colab_type": "text",
        "id": "CIQN1Gzvwb7U"
      },
      "source": [
        "load weights directly"
      ]
    },
    {
      "cell_type": "code",
      "metadata": {
        "colab_type": "code",
        "id": "ivSHXaRdwb7b",
        "colab": {}
      },
      "source": [
        "meniscus_axial_model.load_weights('meniscus_axial_weights.h5')"
      ],
      "execution_count": 0,
      "outputs": []
    },
    {
      "cell_type": "markdown",
      "metadata": {
        "id": "t23vCqCpw39d",
        "colab_type": "text"
      },
      "source": [
        "validate"
      ]
    },
    {
      "cell_type": "code",
      "metadata": {
        "id": "QSBEj7rGw5VK",
        "colab_type": "code",
        "outputId": "474d0fb2-9964-4276-f604-6d638c270284",
        "colab": {
          "base_uri": "https://localhost:8080/",
          "height": 70
        }
      },
      "source": [
        "meniscus_axial_score=meniscus_axial_model.evaluate(valid_axial,valid_meniscus_labels)\n",
        "print (meniscus_axial_score)\n",
        "print(meniscus_axial_model.metrics_names)"
      ],
      "execution_count": 0,
      "outputs": [
        {
          "output_type": "stream",
          "text": [
            "120/120 [==============================] - 2s 13ms/step\n",
            "[1.0923907597859701, 0.6083333313465118]\n",
            "['loss', 'acc']\n"
          ],
          "name": "stdout"
        }
      ]
    },
    {
      "cell_type": "markdown",
      "metadata": {
        "id": "fuaHe1fQyC1q",
        "colab_type": "text"
      },
      "source": [
        "save th predictions of the axial meniscus model"
      ]
    },
    {
      "cell_type": "code",
      "metadata": {
        "id": "efGZAiTLyHTK",
        "colab_type": "code",
        "outputId": "b9388904-6e4b-4ef6-8916-78aaf19a16d3",
        "colab": {
          "base_uri": "https://localhost:8080/",
          "height": 34
        }
      },
      "source": [
        "axial_meniscus_prediction =meniscus_axial_model.predict(valid_axial,verbose=1)\n",
        "np.save('axial_meniscus_prediction',axial_meniscus_prediction)"
      ],
      "execution_count": 0,
      "outputs": [
        {
          "output_type": "stream",
          "text": [
            "120/120 [==============================] - 2s 13ms/step\n"
          ],
          "name": "stdout"
        }
      ]
    },
    {
      "cell_type": "markdown",
      "metadata": {
        "id": "iBdADw0AEFj5",
        "colab_type": "text"
      },
      "source": [
        "# **meniscus coronal**"
      ]
    },
    {
      "cell_type": "markdown",
      "metadata": {
        "colab_type": "text",
        "id": "SXdzClXFEDcZ"
      },
      "source": [
        "create the model"
      ]
    },
    {
      "cell_type": "code",
      "metadata": {
        "colab_type": "code",
        "id": "N9bJwy10EDcd",
        "colab": {}
      },
      "source": [
        "meniscus_coronal_model=Model(inputs=base_model.input,outputs=preds)"
      ],
      "execution_count": 0,
      "outputs": []
    },
    {
      "cell_type": "code",
      "metadata": {
        "colab_type": "code",
        "id": "eDb0eR5QEDcn",
        "colab": {}
      },
      "source": [
        "#compile\n",
        "meniscus_coronal_model.compile(optimizer='Adam',loss='binary_crossentropy',metrics=['accuracy'])"
      ],
      "execution_count": 0,
      "outputs": []
    },
    {
      "cell_type": "code",
      "metadata": {
        "colab_type": "code",
        "outputId": "343965d6-5d94-4e83-a17c-39bae24434a1",
        "id": "g-nhgmYDEDcq",
        "colab": {
          "base_uri": "https://localhost:8080/",
          "height": 34
        }
      },
      "source": [
        "import gc\n",
        "gc.collect()"
      ],
      "execution_count": 0,
      "outputs": [
        {
          "output_type": "execute_result",
          "data": {
            "text/plain": [
              "139"
            ]
          },
          "metadata": {
            "tags": []
          },
          "execution_count": 60
        }
      ]
    },
    {
      "cell_type": "markdown",
      "metadata": {
        "colab_type": "text",
        "id": "gwpJHELtKrkH"
      },
      "source": [
        "create an instance of the cass metrics to pass it as an argument for the model"
      ]
    },
    {
      "cell_type": "code",
      "metadata": {
        "colab_type": "code",
        "id": "Bab0XrlzKrkJ",
        "colab": {}
      },
      "source": [
        "metrics_meniscus_cor = Metrics()"
      ],
      "execution_count": 0,
      "outputs": []
    },
    {
      "cell_type": "code",
      "metadata": {
        "colab_type": "code",
        "id": "XYe3ujaiEDcu",
        "outputId": "62a02453-8d5e-4697-9939-c84a8ea4aff3",
        "colab": {
          "base_uri": "https://localhost:8080/",
          "height": 819
        }
      },
      "source": [
        "history7=meniscus_coronal_model.fit(train_coronal, train_meniscus_labels, epochs = 15,\n",
        "                  shuffle=True, verbose = 1, validation_split=0.02,callbacks=[metrics_meniscus_cor])"
      ],
      "execution_count": 0,
      "outputs": [
        {
          "output_type": "stream",
          "text": [
            "Train on 1107 samples, validate on 23 samples\n",
            "Epoch 1/15\n",
            "1107/1107 [==============================] - 12s 11ms/step - loss: 0.9608 - acc: 0.6089 - val_loss: 0.5808 - val_acc: 0.6087\n",
            "— val_f1: 0.5714285714285713\n",
            "Epoch 2/15\n",
            "1107/1107 [==============================] - 8s 7ms/step - loss: 0.6818 - acc: 0.6694 - val_loss: 0.5516 - val_acc: 0.6957\n",
            "— val_f1: 0.588235294117647\n",
            "Epoch 3/15\n",
            "1107/1107 [==============================] - 8s 7ms/step - loss: 0.5892 - acc: 0.7001 - val_loss: 0.5429 - val_acc: 0.6522\n",
            "— val_f1: 0.5555555555555556\n",
            "Epoch 4/15\n",
            "1107/1107 [==============================] - 8s 7ms/step - loss: 0.5376 - acc: 0.7272 - val_loss: 0.5859 - val_acc: 0.6957\n",
            "— val_f1: 0.6666666666666666\n",
            "Epoch 5/15\n",
            "1107/1107 [==============================] - 7s 7ms/step - loss: 0.5495 - acc: 0.7353 - val_loss: 0.5643 - val_acc: 0.6957\n",
            "— val_f1: 0.588235294117647\n",
            "Epoch 6/15\n",
            "1107/1107 [==============================] - 7s 7ms/step - loss: 0.5088 - acc: 0.7462 - val_loss: 0.5875 - val_acc: 0.6957\n",
            "— val_f1: 0.588235294117647\n",
            "Epoch 7/15\n",
            "1107/1107 [==============================] - 7s 7ms/step - loss: 0.4621 - acc: 0.7977 - val_loss: 0.5731 - val_acc: 0.7391\n",
            "— val_f1: 0.7\n",
            "Epoch 8/15\n",
            "1107/1107 [==============================] - 7s 7ms/step - loss: 0.4668 - acc: 0.7868 - val_loss: 0.6880 - val_acc: 0.6087\n",
            "— val_f1: 0.4\n",
            "Epoch 9/15\n",
            "1107/1107 [==============================] - 7s 7ms/step - loss: 0.4757 - acc: 0.7751 - val_loss: 0.5862 - val_acc: 0.6957\n",
            "— val_f1: 0.588235294117647\n",
            "Epoch 10/15\n",
            "1107/1107 [==============================] - 7s 7ms/step - loss: 0.4413 - acc: 0.7895 - val_loss: 0.5749 - val_acc: 0.6957\n",
            "— val_f1: 0.631578947368421\n",
            "Epoch 11/15\n",
            "1107/1107 [==============================] - 7s 7ms/step - loss: 0.4147 - acc: 0.8067 - val_loss: 0.6318 - val_acc: 0.6522\n",
            "— val_f1: 0.6363636363636365\n",
            "Epoch 12/15\n",
            "1107/1107 [==============================] - 7s 7ms/step - loss: 0.3775 - acc: 0.8329 - val_loss: 0.5959 - val_acc: 0.6522\n",
            "— val_f1: 0.5555555555555556\n",
            "Epoch 13/15\n",
            "1107/1107 [==============================] - 7s 7ms/step - loss: 0.3774 - acc: 0.8329 - val_loss: 0.5719 - val_acc: 0.6522\n",
            "— val_f1: 0.5555555555555556\n",
            "Epoch 14/15\n",
            "1107/1107 [==============================] - 7s 7ms/step - loss: 0.3539 - acc: 0.8564 - val_loss: 0.6437 - val_acc: 0.7391\n",
            "— val_f1: 0.7692307692307693\n",
            "Epoch 15/15\n",
            "1107/1107 [==============================] - 7s 7ms/step - loss: 0.3433 - acc: 0.8582 - val_loss: 0.6110 - val_acc: 0.6087\n",
            "— val_f1: 0.5263157894736842\n"
          ],
          "name": "stdout"
        }
      ]
    },
    {
      "cell_type": "markdown",
      "metadata": {
        "colab_type": "text",
        "id": "hV_4MFXZEDcy"
      },
      "source": [
        "save the model"
      ]
    },
    {
      "cell_type": "code",
      "metadata": {
        "colab_type": "code",
        "id": "QaPGV71UEDcy",
        "colab": {}
      },
      "source": [
        "meniscus_coronal_model.save_weights('meniscus_coronal_weights.h5') #load best weights"
      ],
      "execution_count": 0,
      "outputs": []
    },
    {
      "cell_type": "markdown",
      "metadata": {
        "colab_type": "text",
        "id": "j-E8P20qEDc0"
      },
      "source": [
        "get accuracy and f score"
      ]
    },
    {
      "cell_type": "code",
      "metadata": {
        "colab_type": "code",
        "id": "RV0FxffhEDc0",
        "colab": {}
      },
      "source": [
        "coronal_meniscus_train_acc = history7.history['acc']\n",
        "coronal_meniscus_train_loss = history7.history['loss']\n",
        "coronal_meniscus_train_fscore = metrics_meniscus_cor.get_data()"
      ],
      "execution_count": 0,
      "outputs": []
    },
    {
      "cell_type": "markdown",
      "metadata": {
        "colab_type": "text",
        "id": "jZUHQeRGEDc2"
      },
      "source": [
        "plot metrics"
      ]
    },
    {
      "cell_type": "markdown",
      "metadata": {
        "colab_type": "text",
        "id": "LWR2gjX1EDc2"
      },
      "source": [
        "Accuracy"
      ]
    },
    {
      "cell_type": "code",
      "metadata": {
        "colab_type": "code",
        "outputId": "1c6c6755-b24e-4b02-f5ba-d3b42868ca27",
        "id": "XwiCzcXaEDc3",
        "colab": {
          "base_uri": "https://localhost:8080/",
          "height": 281
        }
      },
      "source": [
        "plt.plot(coronal_meniscus_train_acc)\n",
        "plt.title('training curve')\n",
        "plt.show()"
      ],
      "execution_count": 0,
      "outputs": [
        {
          "output_type": "display_data",
          "data": {
            "image/png": "[encoded data removed]",
            "text/plain": [
              "<Figure size 432x288 with 1 Axes>"
            ]
          },
          "metadata": {
            "tags": []
          }
        }
      ]
    },
    {
      "cell_type": "markdown",
      "metadata": {
        "colab_type": "text",
        "id": "-uv_4JwBEDc6"
      },
      "source": [
        "loss"
      ]
    },
    {
      "cell_type": "code",
      "metadata": {
        "colab_type": "code",
        "outputId": "b9ef288a-1c9f-4ddd-f09f-186c54d92cc3",
        "id": "nFqYfk0VEDc6",
        "colab": {
          "base_uri": "https://localhost:8080/",
          "height": 298
        }
      },
      "source": [
        "plt.plot(coronal_meniscus_train_loss)\n",
        "plt.title('training curve')"
      ],
      "execution_count": 0,
      "outputs": [
        {
          "output_type": "execute_result",
          "data": {
            "text/plain": [
              "Text(0.5, 1.0, 'training curve')"
            ]
          },
          "metadata": {
            "tags": []
          },
          "execution_count": 70
        },
        {
          "output_type": "display_data",
          "data": {
            "image/png": "[encoded data removed]",
            "text/plain": [
              "<Figure size 432x288 with 1 Axes>"
            ]
          },
          "metadata": {
            "tags": []
          }
        }
      ]
    },
    {
      "cell_type": "markdown",
      "metadata": {
        "id": "sx0HzN4yckSy",
        "colab_type": "text"
      },
      "source": [
        "fscore"
      ]
    },
    {
      "cell_type": "code",
      "metadata": {
        "colab_type": "code",
        "outputId": "949c7acc-3a99-43c4-babe-38d4887854ed",
        "id": "FVkyfICfEDc8",
        "colab": {
          "base_uri": "https://localhost:8080/",
          "height": 286
        }
      },
      "source": [
        "plt.plot(coronal_meniscus_train_fscore)"
      ],
      "execution_count": 0,
      "outputs": [
        {
          "output_type": "execute_result",
          "data": {
            "text/plain": [
              "[<matplotlib.lines.Line2D at 0x7fdecb6dad68>]"
            ]
          },
          "metadata": {
            "tags": []
          },
          "execution_count": 71
        },
        {
          "output_type": "display_data",
          "data": {
            "image/png": "[encoded data removed]",
            "text/plain": [
              "<Figure size 432x288 with 1 Axes>"
            ]
          },
          "metadata": {
            "tags": []
          }
        }
      ]
    },
    {
      "cell_type": "markdown",
      "metadata": {
        "colab_type": "text",
        "id": "V8L_xoOjEDdA"
      },
      "source": [
        "load the validation acl labels"
      ]
    },
    {
      "cell_type": "code",
      "metadata": {
        "colab_type": "code",
        "id": "EYU8zf5WEDdA",
        "colab": {}
      },
      "source": [
        "valid_meniscus_labels = pd.read_csv(main_dir+'/' + \"valid-meniscus.csv\", header=None)[1].values"
      ],
      "execution_count": 0,
      "outputs": []
    },
    {
      "cell_type": "markdown",
      "metadata": {
        "colab_type": "text",
        "id": "Jap5D0UrEDdC"
      },
      "source": [
        "load the validation coronal data"
      ]
    },
    {
      "cell_type": "code",
      "metadata": {
        "colab_type": "code",
        "id": "GmYNa4sZEDdC",
        "colab": {}
      },
      "source": [
        "valid_coronal = scan_series_Array(main_dir,\"valid\", \"coronal\", 120, 0)"
      ],
      "execution_count": 0,
      "outputs": []
    },
    {
      "cell_type": "code",
      "metadata": {
        "colab_type": "code",
        "outputId": "deebc386-e77f-4c90-9a92-074eb919161b",
        "id": "fOVEjgQncABo",
        "colab": {
          "base_uri": "https://localhost:8080/",
          "height": 68
        }
      },
      "source": [
        "meniscus_cor_score=meniscus_coronal_model.evaluate(valid_coronal,valid_meniscus_labels)\n",
        "print (meniscus_cor_score)\n",
        "print(meniscus_coronal_model.metrics_names)"
      ],
      "execution_count": 0,
      "outputs": [
        {
          "output_type": "stream",
          "text": [
            "120/120 [==============================] - 1s 7ms/step\n",
            "[0.7857162714004516, 0.700000003973643]\n",
            "['loss', 'acc']\n"
          ],
          "name": "stdout"
        }
      ]
    },
    {
      "cell_type": "markdown",
      "metadata": {
        "id": "BZw46mW22Vkv",
        "colab_type": "text"
      },
      "source": [
        "load weights directly"
      ]
    },
    {
      "cell_type": "code",
      "metadata": {
        "colab_type": "code",
        "id": "o-hg7FWPEDdG",
        "colab": {}
      },
      "source": [
        "meniscus_coronal_model.load_weights('acl_coronal_weights.h5')"
      ],
      "execution_count": 0,
      "outputs": []
    },
    {
      "cell_type": "markdown",
      "metadata": {
        "colab_type": "text",
        "id": "QxyEe_jfEDdG"
      },
      "source": [
        "save acl coronal model predictions"
      ]
    },
    {
      "cell_type": "code",
      "metadata": {
        "colab_type": "code",
        "id": "xUbUJLHaEDdI",
        "colab": {}
      },
      "source": [
        "coronal_meniscus_prediction=meniscus_coronal_model.predict(valid_coronal)\n",
        "np.save('coronal_meniscus_prediction',coronal_meniscus_prediction)"
      ],
      "execution_count": 0,
      "outputs": []
    },
    {
      "cell_type": "markdown",
      "metadata": {
        "id": "MuTeML3zcvc7",
        "colab_type": "text"
      },
      "source": [
        "validation metrics plots"
      ]
    },
    {
      "cell_type": "code",
      "metadata": {
        "id": "OwYtFadtcysL",
        "colab_type": "code",
        "colab": {}
      },
      "source": [
        "coronal_meniscus_val_acc=history7.history['val_acc']"
      ],
      "execution_count": 0,
      "outputs": []
    },
    {
      "cell_type": "code",
      "metadata": {
        "id": "85Qy0eNOc8_2",
        "colab_type": "code",
        "colab": {}
      },
      "source": [
        "coronal_meniscus_val_loss=history7.history['val_loss']"
      ],
      "execution_count": 0,
      "outputs": []
    },
    {
      "cell_type": "code",
      "metadata": {
        "id": "H-2nGQXTdCuT",
        "colab_type": "code",
        "outputId": "1498ed05-f4f0-404e-dddd-38c7e0c9b043",
        "colab": {
          "base_uri": "https://localhost:8080/",
          "height": 298
        }
      },
      "source": [
        "plt.plot(coronal_meniscus_val_acc)\n",
        "plt.title('validation accuracy')"
      ],
      "execution_count": 0,
      "outputs": [
        {
          "output_type": "execute_result",
          "data": {
            "text/plain": [
              "Text(0.5, 1.0, 'validation accuracy')"
            ]
          },
          "metadata": {
            "tags": []
          },
          "execution_count": 74
        },
        {
          "output_type": "display_data",
          "data": {
            "image/png": "[encoded data removed]",
            "text/plain": [
              "<Figure size 432x288 with 1 Axes>"
            ]
          },
          "metadata": {
            "tags": []
          }
        }
      ]
    },
    {
      "cell_type": "code",
      "metadata": {
        "id": "oOMTz22XdLdc",
        "colab_type": "code",
        "outputId": "af5acb8b-976b-4f5c-bb69-481fd16f6d22",
        "colab": {
          "base_uri": "https://localhost:8080/",
          "height": 298
        }
      },
      "source": [
        "plt.plot(coronal_meniscus_val_loss)\n",
        "plt.title('validation loss')"
      ],
      "execution_count": 0,
      "outputs": [
        {
          "output_type": "execute_result",
          "data": {
            "text/plain": [
              "Text(0.5, 1.0, 'validation loss')"
            ]
          },
          "metadata": {
            "tags": []
          },
          "execution_count": 80
        },
        {
          "output_type": "display_data",
          "data": {
            "image/png": "[encoded data removed]",
            "text/plain": [
              "<Figure size 432x288 with 1 Axes>"
            ]
          },
          "metadata": {
            "tags": []
          }
        }
      ]
    },
    {
      "cell_type": "markdown",
      "metadata": {
        "colab_type": "text",
        "id": "iM0paH6s0TlT"
      },
      "source": [
        "# **meniscus sagittal**\n",
        "\n"
      ]
    },
    {
      "cell_type": "markdown",
      "metadata": {
        "colab_type": "text",
        "id": "Y8fOf87S0TlU"
      },
      "source": [
        "create the model"
      ]
    },
    {
      "cell_type": "code",
      "metadata": {
        "colab_type": "code",
        "id": "fhDUyjrN0TlV",
        "colab": {}
      },
      "source": [
        "meniscus_sagittal_model=Model(inputs=base_model.input,outputs=preds)"
      ],
      "execution_count": 0,
      "outputs": []
    },
    {
      "cell_type": "code",
      "metadata": {
        "colab_type": "code",
        "id": "D92dSZB_0Tld",
        "colab": {}
      },
      "source": [
        "#compile\n",
        "meniscus_sagittal_model.compile(optimizer='Adam',loss='binary_crossentropy',metrics=['accuracy'])"
      ],
      "execution_count": 0,
      "outputs": []
    },
    {
      "cell_type": "code",
      "metadata": {
        "colab_type": "code",
        "outputId": "97230cf9-fe7b-4058-b474-cf220d0dce29",
        "id": "sq9M_oxf0Tlg",
        "colab": {
          "base_uri": "https://localhost:8080/",
          "height": 34
        }
      },
      "source": [
        "import gc\n",
        "gc.collect()"
      ],
      "execution_count": 0,
      "outputs": [
        {
          "output_type": "execute_result",
          "data": {
            "text/plain": [
              "98"
            ]
          },
          "metadata": {
            "tags": []
          },
          "execution_count": 88
        }
      ]
    },
    {
      "cell_type": "markdown",
      "metadata": {
        "colab_type": "text",
        "id": "X9RiqOye0Tlk"
      },
      "source": [
        " create an instance of the cass metrics to pass it as an argument for the model"
      ]
    },
    {
      "cell_type": "code",
      "metadata": {
        "colab_type": "code",
        "id": "ZRPXV8jg0Tll",
        "colab": {}
      },
      "source": [
        "metrics_meniscus_sag = Metrics()"
      ],
      "execution_count": 0,
      "outputs": []
    },
    {
      "cell_type": "code",
      "metadata": {
        "colab_type": "code",
        "id": "ywJjpwy30Tln",
        "colab": {}
      },
      "source": [
        "history1=meniscus_sagittal_model.fit(train_sagittal, train_meniscus_labels, epochs = 2,\n",
        "                  shuffle=True, verbose = 1, validation_split=0.02,callbacks=[metrics_meniscus_sag])"
      ],
      "execution_count": 0,
      "outputs": []
    },
    {
      "cell_type": "markdown",
      "metadata": {
        "colab_type": "text",
        "id": "8MVrsfEF0Tlq"
      },
      "source": [
        "save the model"
      ]
    },
    {
      "cell_type": "code",
      "metadata": {
        "colab_type": "code",
        "id": "SgVSFbHx0Tlr",
        "colab": {}
      },
      "source": [
        "meniscus_sagittal_model.save_weights('meniscus_sagittal_weights.h5') #load best weights"
      ],
      "execution_count": 0,
      "outputs": []
    },
    {
      "cell_type": "markdown",
      "metadata": {
        "colab_type": "text",
        "id": "-RjKfS3-0Tlt"
      },
      "source": [
        "get accuracy and f score"
      ]
    },
    {
      "cell_type": "code",
      "metadata": {
        "colab_type": "code",
        "id": "BDWNfokw0Tlt",
        "colab": {}
      },
      "source": [
        "sagittal_meniscus_train_acc = history1.history['acc']\n",
        "sagittal_meniscus_train_loss = history1.history['loss']\n",
        "sagittal_meniscus_train_fscore = metrics_meniscus_sag.get_data()"
      ],
      "execution_count": 0,
      "outputs": []
    },
    {
      "cell_type": "markdown",
      "metadata": {
        "colab_type": "text",
        "id": "NxiiqfKt0Tlv"
      },
      "source": [
        "plot metrics"
      ]
    },
    {
      "cell_type": "markdown",
      "metadata": {
        "colab_type": "text",
        "id": "d8T1xFkP0Tlx"
      },
      "source": [
        "Accuracy"
      ]
    },
    {
      "cell_type": "code",
      "metadata": {
        "colab_type": "code",
        "outputId": "2220f26e-acbf-403b-c958-333b3b51f085",
        "id": "oc6W922P0Tly",
        "colab": {
          "base_uri": "https://localhost:8080/",
          "height": 281
        }
      },
      "source": [
        "plt.plot(sagittal_meniscus_train_acc)\n",
        "plt.title('accuracy')\n",
        "plt.show()"
      ],
      "execution_count": 0,
      "outputs": [
        {
          "output_type": "display_data",
          "data": {
            "image/png": "[encoded data removed]",
            "text/plain": [
              "<Figure size 432x288 with 1 Axes>"
            ]
          },
          "metadata": {
            "tags": []
          }
        }
      ]
    },
    {
      "cell_type": "markdown",
      "metadata": {
        "colab_type": "text",
        "id": "Y6LJ4L0_0Tl2"
      },
      "source": [
        "loss"
      ]
    },
    {
      "cell_type": "code",
      "metadata": {
        "colab_type": "code",
        "outputId": "7197a2b3-f1db-4e7a-9ddd-f01e3070b147",
        "id": "8MtCNbK_0Tl3",
        "colab": {
          "base_uri": "https://localhost:8080/",
          "height": 298
        }
      },
      "source": [
        "plt.plot(sagittal_meniscus_train_loss)\n",
        "plt.title('loss')"
      ],
      "execution_count": 0,
      "outputs": [
        {
          "output_type": "execute_result",
          "data": {
            "text/plain": [
              "Text(0.5, 1.0, 'loss')"
            ]
          },
          "metadata": {
            "tags": []
          },
          "execution_count": 98
        },
        {
          "output_type": "display_data",
          "data": {
            "image/png": "[encoded data removed]",
            "text/plain": [
              "<Figure size 432x288 with 1 Axes>"
            ]
          },
          "metadata": {
            "tags": []
          }
        }
      ]
    },
    {
      "cell_type": "code",
      "metadata": {
        "colab_type": "code",
        "outputId": "3b71ac57-66db-4252-8869-db0e2ae12dff",
        "id": "WGL0PiuJ0Tl5",
        "colab": {
          "base_uri": "https://localhost:8080/",
          "height": 298
        }
      },
      "source": [
        "plt.plot(sagittal_meniscus_train_fscore)\n",
        "plt.title('fscore')"
      ],
      "execution_count": 0,
      "outputs": [
        {
          "output_type": "execute_result",
          "data": {
            "text/plain": [
              "Text(0.5, 1.0, 'fscore')"
            ]
          },
          "metadata": {
            "tags": []
          },
          "execution_count": 99
        },
        {
          "output_type": "display_data",
          "data": {
            "image/png": "[encoded data removed]",
            "text/plain": [
              "<Figure size 432x288 with 1 Axes>"
            ]
          },
          "metadata": {
            "tags": []
          }
        }
      ]
    },
    {
      "cell_type": "markdown",
      "metadata": {
        "colab_type": "text",
        "id": "8jtfMxgM0Tl-"
      },
      "source": [
        "load the validation meniscus labels"
      ]
    },
    {
      "cell_type": "code",
      "metadata": {
        "colab_type": "code",
        "id": "1W_G0RoJ0Tl-",
        "colab": {}
      },
      "source": [
        "valid_meniscus_labels = pd.read_csv(main_dir+'/' + \"valid-meniscus.csv\", header=None)[1].values"
      ],
      "execution_count": 0,
      "outputs": []
    },
    {
      "cell_type": "markdown",
      "metadata": {
        "colab_type": "text",
        "id": "9v3XtPDw0TmB"
      },
      "source": [
        "load the validation sagittal data"
      ]
    },
    {
      "cell_type": "code",
      "metadata": {
        "colab_type": "code",
        "id": "StmWCWVC0TmD",
        "colab": {}
      },
      "source": [
        "valid_sagittal = scan_series_Array(main_dir,\"valid\", \"sagittal\", 120, 0)"
      ],
      "execution_count": 0,
      "outputs": []
    },
    {
      "cell_type": "code",
      "metadata": {
        "colab_type": "code",
        "outputId": "4d35950a-27ec-4f39-d54c-ed36af2d55b8",
        "id": "3zZTdTGHec8P",
        "colab": {
          "base_uri": "https://localhost:8080/",
          "height": 68
        }
      },
      "source": [
        "meniscus_sagittal_score=meniscus_sagittal_model.evaluate(valid_sagittal,valid_meniscus_labels)\n",
        "print (meniscus_sagittal_score)\n",
        "print(meniscus_sagittal_model.metrics_names)"
      ],
      "execution_count": 0,
      "outputs": [
        {
          "output_type": "stream",
          "text": [
            "120/120 [==============================] - 1s 7ms/step\n",
            "[0.7196163177490235, 0.749999996026357]\n",
            "['loss', 'acc']\n"
          ],
          "name": "stdout"
        }
      ]
    },
    {
      "cell_type": "markdown",
      "metadata": {
        "colab_type": "text",
        "id": "UhMlPR9z0TmJ"
      },
      "source": [
        "load weights directly"
      ]
    },
    {
      "cell_type": "code",
      "metadata": {
        "colab_type": "code",
        "id": "l4s1LtBx0TmK",
        "colab": {}
      },
      "source": [
        "meniscus_sagittal_model.load_weights('meniscus_sagittal_weights.h5')"
      ],
      "execution_count": 0,
      "outputs": []
    },
    {
      "cell_type": "markdown",
      "metadata": {
        "colab_type": "text",
        "id": "K-99THV80TmN"
      },
      "source": [
        "save abnormal axial model predictions"
      ]
    },
    {
      "cell_type": "code",
      "metadata": {
        "colab_type": "code",
        "id": "yb5hspnj0TmQ",
        "colab": {}
      },
      "source": [
        "sagittal_meniscus_prediction=meniscus_sagittal_model.predict(valid_sagittal)\n",
        "np.save('sagittal_meniscus_prediction',sagittal_meniscus_prediction)"
      ],
      "execution_count": 0,
      "outputs": []
    },
    {
      "cell_type": "markdown",
      "metadata": {
        "id": "PfzRjWFL_hNk",
        "colab_type": "text"
      },
      "source": [
        "# **Ensemble the three classifiers**"
      ]
    },
    {
      "cell_type": "markdown",
      "metadata": {
        "id": "zSlycQNHHrN7",
        "colab_type": "text"
      },
      "source": [
        "**Abnormal final predictions and accuracy**"
      ]
    },
    {
      "cell_type": "code",
      "metadata": {
        "id": "rzf9e9DfIM8g",
        "colab_type": "code",
        "colab": {}
      },
      "source": [
        "from sklearn.metrics import accuracy_score"
      ],
      "execution_count": 0,
      "outputs": []
    },
    {
      "cell_type": "markdown",
      "metadata": {
        "id": "75BSz8NRHveq",
        "colab_type": "text"
      },
      "source": [
        "load the saved predictions"
      ]
    },
    {
      "cell_type": "code",
      "metadata": {
        "id": "zntq81tg_rMh",
        "colab_type": "code",
        "colab": {}
      },
      "source": [
        "pred1 = np.load('axial_abnormal_prediction.npy')\n",
        "pred2 = np.load('coronal_abnormal_prediction.npy')\n",
        "pred3 = np.load('sagittal_abnormal_prediction.npy')"
      ],
      "execution_count": 0,
      "outputs": []
    },
    {
      "cell_type": "markdown",
      "metadata": {
        "id": "iPL4O4l6HztP",
        "colab_type": "text"
      },
      "source": [
        "weighted average"
      ]
    },
    {
      "cell_type": "code",
      "metadata": {
        "id": "CQzFEybBDhhH",
        "colab_type": "code",
        "colab": {}
      },
      "source": [
        "abnormal_final_pred = (pred1*0.8+pred2*0.1+pred2*0.1).round()"
      ],
      "execution_count": 0,
      "outputs": []
    },
    {
      "cell_type": "markdown",
      "metadata": {
        "id": "LQz4BjgXH2j6",
        "colab_type": "text"
      },
      "source": [
        "or majority voting"
      ]
    },
    {
      "cell_type": "code",
      "metadata": {
        "id": "WbokRBNkFg2J",
        "colab_type": "code",
        "colab": {}
      },
      "source": [
        "abnormal_final_pred2 = pred1+pred2+pred3\n",
        "abnormal_final_pred2[abnormal_final_pred2<2] = 0\n",
        "abnormal_final_pred2[abnormal_final_pred2>=2] = 1"
      ],
      "execution_count": 0,
      "outputs": []
    },
    {
      "cell_type": "markdown",
      "metadata": {
        "id": "DQPe3552IP0f",
        "colab_type": "text"
      },
      "source": [
        "calculate final abnormal accuracy"
      ]
    },
    {
      "cell_type": "markdown",
      "metadata": {
        "id": "CdgCK9ZkJior",
        "colab_type": "text"
      },
      "source": [
        "avg weighted accuracy"
      ]
    },
    {
      "cell_type": "code",
      "metadata": {
        "colab_type": "code",
        "outputId": "ab916d3d-3da6-4cd6-f046-5e557a234848",
        "id": "tAt1UVNZAIps",
        "colab": {
          "base_uri": "https://localhost:8080/",
          "height": 34
        }
      },
      "source": [
        "abnormal_final_score1 = accuracy_score(valid_abnormal_labels,abnormal_final_pred)\n",
        "abnormal_final_score1"
      ],
      "execution_count": 0,
      "outputs": [
        {
          "output_type": "execute_result",
          "data": {
            "text/plain": [
              "0.8"
            ]
          },
          "metadata": {
            "tags": []
          },
          "execution_count": 73
        }
      ]
    },
    {
      "cell_type": "markdown",
      "metadata": {
        "id": "yLuy6PO_AdWq",
        "colab_type": "text"
      },
      "source": [
        "majority voting"
      ]
    },
    {
      "cell_type": "code",
      "metadata": {
        "id": "oTD5m8QcEwJ1",
        "colab_type": "code",
        "outputId": "af1eccef-fd26-486e-b848-a5f6cb1c34bc",
        "colab": {
          "base_uri": "https://localhost:8080/",
          "height": 34
        }
      },
      "source": [
        "abnormal_final_score2 = accuracy_score(valid_abnormal_labels,abnormal_final_pred2)\n",
        "abnormal_final_score2"
      ],
      "execution_count": 0,
      "outputs": [
        {
          "output_type": "execute_result",
          "data": {
            "text/plain": [
              "0.825"
            ]
          },
          "metadata": {
            "tags": []
          },
          "execution_count": 168
        }
      ]
    },
    {
      "cell_type": "markdown",
      "metadata": {
        "id": "rQFfmde9Qn7p",
        "colab_type": "text"
      },
      "source": [
        "averaging"
      ]
    },
    {
      "cell_type": "code",
      "metadata": {
        "id": "SrcJY3RZQyvL",
        "colab_type": "code",
        "outputId": "e40a11a6-f7cf-4802-be33-aa09e570844d",
        "colab": {
          "base_uri": "https://localhost:8080/",
          "height": 34
        }
      },
      "source": [
        "abnormal_final_pred3 = ((pred1+pred2+pred3)/3).round()\n",
        "abnormal_final_score3 = accuracy_score(valid_abnormal_labels,abnormal_final_pred3)\n",
        "abnormal_final_score3"
      ],
      "execution_count": 0,
      "outputs": [
        {
          "output_type": "execute_result",
          "data": {
            "text/plain": [
              "0.825"
            ]
          },
          "metadata": {
            "tags": []
          },
          "execution_count": 209
        }
      ]
    },
    {
      "cell_type": "markdown",
      "metadata": {
        "colab_type": "text",
        "id": "Gnu3ExHgIYdL"
      },
      "source": [
        "**Acl final predictions and accuracy**"
      ]
    },
    {
      "cell_type": "markdown",
      "metadata": {
        "colab_type": "text",
        "id": "xKQbkNUeIYdZ"
      },
      "source": [
        "load the saved predictions"
      ]
    },
    {
      "cell_type": "code",
      "metadata": {
        "colab_type": "code",
        "id": "YlJCNrokIYda",
        "colab": {}
      },
      "source": [
        "pred1_acl = np.load('axial_acl_prediction.npy')\n",
        "pred2_acl = np.load('coronal_acl_prediction.npy')\n",
        "pred3_acl = np.load('sagittal_acl_prediction.npy')"
      ],
      "execution_count": 0,
      "outputs": []
    },
    {
      "cell_type": "markdown",
      "metadata": {
        "colab_type": "text",
        "id": "TzsoGt0ZIYdd"
      },
      "source": [
        "weighted average"
      ]
    },
    {
      "cell_type": "code",
      "metadata": {
        "colab_type": "code",
        "id": "inG3VKdhIYde",
        "colab": {}
      },
      "source": [
        "acl_final_pred = (pred1_acl*0.3+pred2_acl*0.4+pred2_acl*0.3).round()"
      ],
      "execution_count": 0,
      "outputs": []
    },
    {
      "cell_type": "markdown",
      "metadata": {
        "colab_type": "text",
        "id": "6oYJ_W7xIYdg"
      },
      "source": [
        "or majority voting"
      ]
    },
    {
      "cell_type": "code",
      "metadata": {
        "colab_type": "code",
        "id": "3uLWxbGVIYdh",
        "colab": {}
      },
      "source": [
        "acl_final_pred2 = pred1_acl+pred2_acl+pred3_acl\n",
        "acl_final_pred2[acl_final_pred2<2] = 0\n",
        "acl_final_pred2[acl_final_pred2>=2] = 1"
      ],
      "execution_count": 0,
      "outputs": []
    },
    {
      "cell_type": "markdown",
      "metadata": {
        "colab_type": "text",
        "id": "6eQA-D4OIYdk"
      },
      "source": [
        "calculate final acl accuracy"
      ]
    },
    {
      "cell_type": "markdown",
      "metadata": {
        "colab_type": "text",
        "id": "hoLEvp_XJ8JR"
      },
      "source": [
        "avg weighted accuracy"
      ]
    },
    {
      "cell_type": "code",
      "metadata": {
        "colab_type": "code",
        "outputId": "ad16b1a4-8663-417c-835f-055c88ff5a7b",
        "id": "vNVx5wQJJ8JY",
        "colab": {
          "base_uri": "https://localhost:8080/",
          "height": 34
        }
      },
      "source": [
        "acl_final_score1 = accuracy_score(valid_acl_labels,acl_final_pred)\n",
        "acl_final_score1"
      ],
      "execution_count": 0,
      "outputs": [
        {
          "output_type": "execute_result",
          "data": {
            "text/plain": [
              "0.75"
            ]
          },
          "metadata": {
            "tags": []
          },
          "execution_count": 130
        }
      ]
    },
    {
      "cell_type": "markdown",
      "metadata": {
        "id": "FKudPSuOKdXM",
        "colab_type": "text"
      },
      "source": [
        "majority voting"
      ]
    },
    {
      "cell_type": "code",
      "metadata": {
        "colab_type": "code",
        "outputId": "129667ff-6f95-4ae6-a5d7-17cbcf15210a",
        "id": "xGV3x78cJ8Jj",
        "colab": {
          "base_uri": "https://localhost:8080/",
          "height": 34
        }
      },
      "source": [
        "acl_final_score2 = accuracy_score(valid_acl_labels,acl_final_pred2)\n",
        "acl_final_score2"
      ],
      "execution_count": 0,
      "outputs": [
        {
          "output_type": "execute_result",
          "data": {
            "text/plain": [
              "0.625"
            ]
          },
          "metadata": {
            "tags": []
          },
          "execution_count": 131
        }
      ]
    },
    {
      "cell_type": "markdown",
      "metadata": {
        "colab_type": "text",
        "id": "GeB4f6zwQQfe"
      },
      "source": [
        "averaging"
      ]
    },
    {
      "cell_type": "code",
      "metadata": {
        "colab_type": "code",
        "id": "4SrSAB3BQQff",
        "colab": {}
      },
      "source": [
        "acl_final_pred3 = ((pred1_acl+pred2_acl+pred3_acl)/3).round()"
      ],
      "execution_count": 0,
      "outputs": []
    },
    {
      "cell_type": "code",
      "metadata": {
        "colab_type": "code",
        "outputId": "953b9e73-9ea9-48ee-8ffd-832da33e5086",
        "id": "uqyW1Ua5QQfi",
        "colab": {
          "base_uri": "https://localhost:8080/",
          "height": 34
        }
      },
      "source": [
        "acl_final_score3 = accuracy_score(valid_meniscus_labels,acl_final_pred3)\n",
        "acl_final_score3"
      ],
      "execution_count": 0,
      "outputs": [
        {
          "output_type": "execute_result",
          "data": {
            "text/plain": [
              "0.6083333333333333"
            ]
          },
          "metadata": {
            "tags": []
          },
          "execution_count": 133
        }
      ]
    },
    {
      "cell_type": "markdown",
      "metadata": {
        "colab_type": "text",
        "id": "8Bvj5-7UKjpY"
      },
      "source": [
        " **meniscus final predictions and accuracy**"
      ]
    },
    {
      "cell_type": "markdown",
      "metadata": {
        "colab_type": "text",
        "id": "x8YDlOG1Kjpb"
      },
      "source": [
        "load the saved predictions"
      ]
    },
    {
      "cell_type": "code",
      "metadata": {
        "colab_type": "code",
        "id": "tMRA8rd-Kjpc",
        "colab": {}
      },
      "source": [
        "pred1_m = np.load('axial_meniscus_prediction.npy')\n",
        "pred2_m = np.load('coronal_meniscus_prediction.npy')\n",
        "pred3_m = np.load('sagittal_meniscus_prediction.npy')"
      ],
      "execution_count": 0,
      "outputs": []
    },
    {
      "cell_type": "markdown",
      "metadata": {
        "colab_type": "text",
        "id": "enra1w80Kjpg"
      },
      "source": [
        "weighted average"
      ]
    },
    {
      "cell_type": "code",
      "metadata": {
        "colab_type": "code",
        "id": "To4GofQYKjph",
        "colab": {}
      },
      "source": [
        "meniscus_final_pred = (pred1_m*0.1+pred2_m*0.4+pred2_m*0.5).round()"
      ],
      "execution_count": 0,
      "outputs": []
    },
    {
      "cell_type": "markdown",
      "metadata": {
        "colab_type": "text",
        "id": "oWs60MccKjpk"
      },
      "source": [
        "or majority voting"
      ]
    },
    {
      "cell_type": "code",
      "metadata": {
        "colab_type": "code",
        "id": "MSXyO1b2Kjpl",
        "colab": {}
      },
      "source": [
        "meniscus_final_pred2 = pred1_m+pred2_m+pred3_m\n",
        "meniscus_final_pred2[meniscus_final_pred2<2] = 0\n",
        "meniscus_final_pred2[meniscus_final_pred2>=2] = 1"
      ],
      "execution_count": 0,
      "outputs": []
    },
    {
      "cell_type": "markdown",
      "metadata": {
        "colab_type": "text",
        "id": "Rb2DjBmuKjpn"
      },
      "source": [
        "calculate final acl accuracy"
      ]
    },
    {
      "cell_type": "markdown",
      "metadata": {
        "colab_type": "text",
        "id": "oRZUAK6aKjpo"
      },
      "source": [
        "avg weighted accuracy"
      ]
    },
    {
      "cell_type": "code",
      "metadata": {
        "colab_type": "code",
        "outputId": "01df6ac9-e26c-4b02-dbef-ed521bef5558",
        "id": "_ae8OOkIKjpp",
        "colab": {
          "base_uri": "https://localhost:8080/",
          "height": 34
        }
      },
      "source": [
        "meniscus_final_score1 = accuracy_score(valid_meniscus_labels,meniscus_final_pred)\n",
        "meniscus_final_score1"
      ],
      "execution_count": 0,
      "outputs": [
        {
          "output_type": "execute_result",
          "data": {
            "text/plain": [
              "0.6916666666666667"
            ]
          },
          "metadata": {
            "tags": []
          },
          "execution_count": 142
        }
      ]
    },
    {
      "cell_type": "markdown",
      "metadata": {
        "colab_type": "text",
        "id": "HMq-Cqa7Kjpt"
      },
      "source": [
        "majority voting"
      ]
    },
    {
      "cell_type": "code",
      "metadata": {
        "colab_type": "code",
        "outputId": "45932fca-61c6-4ef4-9e2f-68a0a17d2e59",
        "id": "CJWh399WKjpu",
        "colab": {
          "base_uri": "https://localhost:8080/",
          "height": 34
        }
      },
      "source": [
        "meniscus_final_score2 = accuracy_score(valid_meniscus_labels,meniscus_final_pred2)\n",
        "meniscus_final_score2"
      ],
      "execution_count": 0,
      "outputs": [
        {
          "output_type": "execute_result",
          "data": {
            "text/plain": [
              "0.6583333333333333"
            ]
          },
          "metadata": {
            "tags": []
          },
          "execution_count": 138
        }
      ]
    },
    {
      "cell_type": "markdown",
      "metadata": {
        "id": "yAYI520oP1ZM",
        "colab_type": "text"
      },
      "source": [
        "averaging"
      ]
    },
    {
      "cell_type": "code",
      "metadata": {
        "id": "JKkcYWadP2pF",
        "colab_type": "code",
        "colab": {}
      },
      "source": [
        "meniscus_final_pred3 = ((pred1_m+pred2_m+pred3_m)/3).round()"
      ],
      "execution_count": 0,
      "outputs": []
    },
    {
      "cell_type": "code",
      "metadata": {
        "id": "d7BFRPBUQCO6",
        "colab_type": "code",
        "outputId": "06f334b0-f7d7-4330-c7e7-fafdee0e300e",
        "colab": {
          "base_uri": "https://localhost:8080/",
          "height": 34
        }
      },
      "source": [
        "meniscus_final_score3 = accuracy_score(valid_meniscus_labels,meniscus_final_pred3)\n",
        "meniscus_final_score3"
      ],
      "execution_count": 0,
      "outputs": [
        {
          "output_type": "execute_result",
          "data": {
            "text/plain": [
              "0.6916666666666667"
            ]
          },
          "metadata": {
            "tags": []
          },
          "execution_count": 140
        }
      ]
    },
    {
      "cell_type": "markdown",
      "metadata": {
        "id": "zAg8GDthjjQ8",
        "colab_type": "text"
      },
      "source": [
        "#In conclusion, the final best results are:\n",
        "\n",
        "*  **Abnormal : 86% using axial scan**\n",
        "*   **ACL : 75% using ensemble of the three models with average weighting**\n",
        "*  **Meniscus: 75% using sagittal scan**   \n",
        "\n",
        "\n",
        "\n",
        "\n"
      ]
    }
  ]
}